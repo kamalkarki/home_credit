{
  "metadata": {
    "kernelspec": {
      "display_name": "Python 3",
      "name": "python3"
    },
    "language_info": {
      "name": "python",
      "version": "3.10.13",
      "mimetype": "text/x-python",
      "codemirror_mode": {
        "name": "ipython",
        "version": 3
      },
      "pygments_lexer": "ipython3",
      "nbconvert_exporter": "python",
      "file_extension": ".py"
    },
    "kaggle": {
      "accelerator": "gpu",
      "dataSources": [
        {
          "sourceId": 50160,
          "databundleVersionId": 7921029,
          "sourceType": "competition"
        }
      ],
      "dockerImageVersionId": 30648,
      "isInternetEnabled": false,
      "language": "python",
      "sourceType": "notebook",
      "isGpuEnabled": true
    },
    "colab": {
      "provenance": [],
      "machine_shape": "hm",
      "include_colab_link": true
    },
    "widgets": {
      "application/vnd.jupyter.widget-state+json": {
        "b9a0d5b8c26b458184c8af255a0c32e3": {
          "model_module": "@jupyter-widgets/controls",
          "model_name": "HBoxModel",
          "model_module_version": "1.5.0",
          "state": {
            "_dom_classes": [],
            "_model_module": "@jupyter-widgets/controls",
            "_model_module_version": "1.5.0",
            "_model_name": "HBoxModel",
            "_view_count": null,
            "_view_module": "@jupyter-widgets/controls",
            "_view_module_version": "1.5.0",
            "_view_name": "HBoxView",
            "box_style": "",
            "children": [
              "IPY_MODEL_b825562938024050b77ac4a38d1097cc",
              "IPY_MODEL_cb553cadbb2c41f1a390f918569a752d",
              "IPY_MODEL_f406b23c228b4cc4ad6f2dd31ead55a7"
            ],
            "layout": "IPY_MODEL_749a5839d90b4399aa6bf2f1f9db2f85"
          }
        },
        "b825562938024050b77ac4a38d1097cc": {
          "model_module": "@jupyter-widgets/controls",
          "model_name": "HTMLModel",
          "model_module_version": "1.5.0",
          "state": {
            "_dom_classes": [],
            "_model_module": "@jupyter-widgets/controls",
            "_model_module_version": "1.5.0",
            "_model_name": "HTMLModel",
            "_view_count": null,
            "_view_module": "@jupyter-widgets/controls",
            "_view_module_version": "1.5.0",
            "_view_name": "HTMLView",
            "description": "",
            "description_tooltip": null,
            "layout": "IPY_MODEL_aeb7b59aca5045ed953610bbfe77d15e",
            "placeholder": "​",
            "style": "IPY_MODEL_1792e1a271c74aa6b906674787a2adb3",
            "value": "Best trial: 43. Best value: 0.859458: 100%"
          }
        },
        "cb553cadbb2c41f1a390f918569a752d": {
          "model_module": "@jupyter-widgets/controls",
          "model_name": "FloatProgressModel",
          "model_module_version": "1.5.0",
          "state": {
            "_dom_classes": [],
            "_model_module": "@jupyter-widgets/controls",
            "_model_module_version": "1.5.0",
            "_model_name": "FloatProgressModel",
            "_view_count": null,
            "_view_module": "@jupyter-widgets/controls",
            "_view_module_version": "1.5.0",
            "_view_name": "ProgressView",
            "bar_style": "success",
            "description": "",
            "description_tooltip": null,
            "layout": "IPY_MODEL_c456e4356242481ab57c123684474153",
            "max": 50,
            "min": 0,
            "orientation": "horizontal",
            "style": "IPY_MODEL_5195d18feb1443e1ada64bc88ea7386d",
            "value": 50
          }
        },
        "f406b23c228b4cc4ad6f2dd31ead55a7": {
          "model_module": "@jupyter-widgets/controls",
          "model_name": "HTMLModel",
          "model_module_version": "1.5.0",
          "state": {
            "_dom_classes": [],
            "_model_module": "@jupyter-widgets/controls",
            "_model_module_version": "1.5.0",
            "_model_name": "HTMLModel",
            "_view_count": null,
            "_view_module": "@jupyter-widgets/controls",
            "_view_module_version": "1.5.0",
            "_view_name": "HTMLView",
            "description": "",
            "description_tooltip": null,
            "layout": "IPY_MODEL_6ec6becc7d754cb197be2373f7c3bcb8",
            "placeholder": "​",
            "style": "IPY_MODEL_b391e99ac9ac4720ae98ebf57bd5544e",
            "value": " 50/50 [4:19:45&lt;00:00, 397.74s/it]"
          }
        },
        "749a5839d90b4399aa6bf2f1f9db2f85": {
          "model_module": "@jupyter-widgets/base",
          "model_name": "LayoutModel",
          "model_module_version": "1.2.0",
          "state": {
            "_model_module": "@jupyter-widgets/base",
            "_model_module_version": "1.2.0",
            "_model_name": "LayoutModel",
            "_view_count": null,
            "_view_module": "@jupyter-widgets/base",
            "_view_module_version": "1.2.0",
            "_view_name": "LayoutView",
            "align_content": null,
            "align_items": null,
            "align_self": null,
            "border": null,
            "bottom": null,
            "display": null,
            "flex": null,
            "flex_flow": null,
            "grid_area": null,
            "grid_auto_columns": null,
            "grid_auto_flow": null,
            "grid_auto_rows": null,
            "grid_column": null,
            "grid_gap": null,
            "grid_row": null,
            "grid_template_areas": null,
            "grid_template_columns": null,
            "grid_template_rows": null,
            "height": null,
            "justify_content": null,
            "justify_items": null,
            "left": null,
            "margin": null,
            "max_height": null,
            "max_width": null,
            "min_height": null,
            "min_width": null,
            "object_fit": null,
            "object_position": null,
            "order": null,
            "overflow": null,
            "overflow_x": null,
            "overflow_y": null,
            "padding": null,
            "right": null,
            "top": null,
            "visibility": null,
            "width": null
          }
        },
        "aeb7b59aca5045ed953610bbfe77d15e": {
          "model_module": "@jupyter-widgets/base",
          "model_name": "LayoutModel",
          "model_module_version": "1.2.0",
          "state": {
            "_model_module": "@jupyter-widgets/base",
            "_model_module_version": "1.2.0",
            "_model_name": "LayoutModel",
            "_view_count": null,
            "_view_module": "@jupyter-widgets/base",
            "_view_module_version": "1.2.0",
            "_view_name": "LayoutView",
            "align_content": null,
            "align_items": null,
            "align_self": null,
            "border": null,
            "bottom": null,
            "display": null,
            "flex": null,
            "flex_flow": null,
            "grid_area": null,
            "grid_auto_columns": null,
            "grid_auto_flow": null,
            "grid_auto_rows": null,
            "grid_column": null,
            "grid_gap": null,
            "grid_row": null,
            "grid_template_areas": null,
            "grid_template_columns": null,
            "grid_template_rows": null,
            "height": null,
            "justify_content": null,
            "justify_items": null,
            "left": null,
            "margin": null,
            "max_height": null,
            "max_width": null,
            "min_height": null,
            "min_width": null,
            "object_fit": null,
            "object_position": null,
            "order": null,
            "overflow": null,
            "overflow_x": null,
            "overflow_y": null,
            "padding": null,
            "right": null,
            "top": null,
            "visibility": null,
            "width": null
          }
        },
        "1792e1a271c74aa6b906674787a2adb3": {
          "model_module": "@jupyter-widgets/controls",
          "model_name": "DescriptionStyleModel",
          "model_module_version": "1.5.0",
          "state": {
            "_model_module": "@jupyter-widgets/controls",
            "_model_module_version": "1.5.0",
            "_model_name": "DescriptionStyleModel",
            "_view_count": null,
            "_view_module": "@jupyter-widgets/base",
            "_view_module_version": "1.2.0",
            "_view_name": "StyleView",
            "description_width": ""
          }
        },
        "c456e4356242481ab57c123684474153": {
          "model_module": "@jupyter-widgets/base",
          "model_name": "LayoutModel",
          "model_module_version": "1.2.0",
          "state": {
            "_model_module": "@jupyter-widgets/base",
            "_model_module_version": "1.2.0",
            "_model_name": "LayoutModel",
            "_view_count": null,
            "_view_module": "@jupyter-widgets/base",
            "_view_module_version": "1.2.0",
            "_view_name": "LayoutView",
            "align_content": null,
            "align_items": null,
            "align_self": null,
            "border": null,
            "bottom": null,
            "display": null,
            "flex": null,
            "flex_flow": null,
            "grid_area": null,
            "grid_auto_columns": null,
            "grid_auto_flow": null,
            "grid_auto_rows": null,
            "grid_column": null,
            "grid_gap": null,
            "grid_row": null,
            "grid_template_areas": null,
            "grid_template_columns": null,
            "grid_template_rows": null,
            "height": null,
            "justify_content": null,
            "justify_items": null,
            "left": null,
            "margin": null,
            "max_height": null,
            "max_width": null,
            "min_height": null,
            "min_width": null,
            "object_fit": null,
            "object_position": null,
            "order": null,
            "overflow": null,
            "overflow_x": null,
            "overflow_y": null,
            "padding": null,
            "right": null,
            "top": null,
            "visibility": null,
            "width": null
          }
        },
        "5195d18feb1443e1ada64bc88ea7386d": {
          "model_module": "@jupyter-widgets/controls",
          "model_name": "ProgressStyleModel",
          "model_module_version": "1.5.0",
          "state": {
            "_model_module": "@jupyter-widgets/controls",
            "_model_module_version": "1.5.0",
            "_model_name": "ProgressStyleModel",
            "_view_count": null,
            "_view_module": "@jupyter-widgets/base",
            "_view_module_version": "1.2.0",
            "_view_name": "StyleView",
            "bar_color": null,
            "description_width": ""
          }
        },
        "6ec6becc7d754cb197be2373f7c3bcb8": {
          "model_module": "@jupyter-widgets/base",
          "model_name": "LayoutModel",
          "model_module_version": "1.2.0",
          "state": {
            "_model_module": "@jupyter-widgets/base",
            "_model_module_version": "1.2.0",
            "_model_name": "LayoutModel",
            "_view_count": null,
            "_view_module": "@jupyter-widgets/base",
            "_view_module_version": "1.2.0",
            "_view_name": "LayoutView",
            "align_content": null,
            "align_items": null,
            "align_self": null,
            "border": null,
            "bottom": null,
            "display": null,
            "flex": null,
            "flex_flow": null,
            "grid_area": null,
            "grid_auto_columns": null,
            "grid_auto_flow": null,
            "grid_auto_rows": null,
            "grid_column": null,
            "grid_gap": null,
            "grid_row": null,
            "grid_template_areas": null,
            "grid_template_columns": null,
            "grid_template_rows": null,
            "height": null,
            "justify_content": null,
            "justify_items": null,
            "left": null,
            "margin": null,
            "max_height": null,
            "max_width": null,
            "min_height": null,
            "min_width": null,
            "object_fit": null,
            "object_position": null,
            "order": null,
            "overflow": null,
            "overflow_x": null,
            "overflow_y": null,
            "padding": null,
            "right": null,
            "top": null,
            "visibility": null,
            "width": null
          }
        },
        "b391e99ac9ac4720ae98ebf57bd5544e": {
          "model_module": "@jupyter-widgets/controls",
          "model_name": "DescriptionStyleModel",
          "model_module_version": "1.5.0",
          "state": {
            "_model_module": "@jupyter-widgets/controls",
            "_model_module_version": "1.5.0",
            "_model_name": "DescriptionStyleModel",
            "_view_count": null,
            "_view_module": "@jupyter-widgets/base",
            "_view_module_version": "1.2.0",
            "_view_name": "StyleView",
            "description_width": ""
          }
        }
      }
    }
  },
  "nbformat_minor": 0,
  "nbformat": 4,
  "cells": [
    {
      "cell_type": "markdown",
      "metadata": {
        "id": "view-in-github",
        "colab_type": "text"
      },
      "source": [
        "<a href=\"https://colab.research.google.com/github/kamalkarki/home_credit/blob/master/hc_2_baseline_2.ipynb\" target=\"_parent\"><img src=\"https://colab.research.google.com/assets/colab-badge.svg\" alt=\"Open In Colab\"/></a>"
      ]
    },
    {
      "source": [
        "\n",
        "# IMPORTANT: RUN THIS CELL IN ORDER TO IMPORT YOUR KAGGLE DATA SOURCES\n",
        "# TO THE CORRECT LOCATION (/kaggle/input) IN YOUR NOTEBOOK,\n",
        "# THEN FEEL FREE TO DELETE THIS CELL.\n",
        "# NOTE: THIS NOTEBOOK ENVIRONMENT DIFFERS FROM KAGGLE'S PYTHON\n",
        "# ENVIRONMENT SO THERE MAY BE MISSING LIBRARIES USED BY YOUR\n",
        "# NOTEBOOK.\n",
        "\n",
        "import os\n",
        "import sys\n",
        "from tempfile import NamedTemporaryFile\n",
        "from urllib.request import urlopen\n",
        "from urllib.parse import unquote, urlparse\n",
        "from urllib.error import HTTPError\n",
        "from zipfile import ZipFile\n",
        "import tarfile\n",
        "import shutil\n",
        "\n",
        "CHUNK_SIZE = 40960\n",
        "DATA_SOURCE_MAPPING = 'home-credit-credit-risk-model-stability:https%3A%2F%2Fstorage.googleapis.com%2Fkaggle-competitions-data%2Fkaggle-v2%2F50160%2F7921029%2Fbundle%2Farchive.zip%3FX-Goog-Algorithm%3DGOOG4-RSA-SHA256%26X-Goog-Credential%3Dgcp-kaggle-com%2540kaggle-161607.iam.gserviceaccount.com%252F20240427%252Fauto%252Fstorage%252Fgoog4_request%26X-Goog-Date%3D20240427T072848Z%26X-Goog-Expires%3D259200%26X-Goog-SignedHeaders%3Dhost%26X-Goog-Signature%3D754612b101088cf9888717a74973cded2e46bb1591812cbdee7ea2d6b9668c0e0db13070ac2b5ed8805764b2187b0746ed7a53ef70675d12a52a1f2e47574925cfb063ef629cb9e4c3b293de3f2f2a8f3d18e1edb8bd9b5deda8cb2ef1ff32f5759a3735594170c17dd6d9b600715da4fb7ce3a03f07d3578aa241bf5a551495693b15c3d0b397b5bdb97b1ade0b61904d4525f90f10036b64e04706e02b91903882a88e92b5f933fcaa0edf429657a3eb257ea9c837c57ca1c29dbfbfdb201165b8815e8966a6848a42bc86ee95122805f10d20dec94a7cdfc1ce489d6aabfc6fecc1b2600ff93cb1e547dcc19947b2f3aa903e820e01234a0edc32d170dc32'\n",
        "\n",
        "KAGGLE_INPUT_PATH='/kaggle/input'\n",
        "KAGGLE_WORKING_PATH='/kaggle/working'\n",
        "KAGGLE_SYMLINK='kaggle'\n",
        "\n",
        "!umount /kaggle/input/ 2> /dev/null\n",
        "shutil.rmtree('/kaggle/input', ignore_errors=True)\n",
        "os.makedirs(KAGGLE_INPUT_PATH, 0o777, exist_ok=True)\n",
        "os.makedirs(KAGGLE_WORKING_PATH, 0o777, exist_ok=True)\n",
        "\n",
        "try:\n",
        "  os.symlink(KAGGLE_INPUT_PATH, os.path.join(\"..\", 'input'), target_is_directory=True)\n",
        "except FileExistsError:\n",
        "  pass\n",
        "try:\n",
        "  os.symlink(KAGGLE_WORKING_PATH, os.path.join(\"..\", 'working'), target_is_directory=True)\n",
        "except FileExistsError:\n",
        "  pass\n",
        "\n",
        "for data_source_mapping in DATA_SOURCE_MAPPING.split(','):\n",
        "    directory, download_url_encoded = data_source_mapping.split(':')\n",
        "    download_url = unquote(download_url_encoded)\n",
        "    filename = urlparse(download_url).path\n",
        "    destination_path = os.path.join(KAGGLE_INPUT_PATH, directory)\n",
        "    try:\n",
        "        with urlopen(download_url) as fileres, NamedTemporaryFile() as tfile:\n",
        "            total_length = fileres.headers['content-length']\n",
        "            print(f'Downloading {directory}, {total_length} bytes compressed')\n",
        "            dl = 0\n",
        "            data = fileres.read(CHUNK_SIZE)\n",
        "            while len(data) > 0:\n",
        "                dl += len(data)\n",
        "                tfile.write(data)\n",
        "                done = int(50 * dl / int(total_length))\n",
        "                sys.stdout.write(f\"\\r[{'=' * done}{' ' * (50-done)}] {dl} bytes downloaded\")\n",
        "                sys.stdout.flush()\n",
        "                data = fileres.read(CHUNK_SIZE)\n",
        "            if filename.endswith('.zip'):\n",
        "              with ZipFile(tfile) as zfile:\n",
        "                zfile.extractall(destination_path)\n",
        "            else:\n",
        "              with tarfile.open(tfile.name) as tarfile:\n",
        "                tarfile.extractall(destination_path)\n",
        "            print(f'\\nDownloaded and uncompressed: {directory}')\n",
        "    except HTTPError as e:\n",
        "        print(f'Failed to load (likely expired) {download_url} to path {destination_path}')\n",
        "        continue\n",
        "    except OSError as e:\n",
        "        print(f'Failed to load {download_url} to path {destination_path}')\n",
        "        continue\n",
        "\n",
        "print('Data source import complete.')\n"
      ],
      "metadata": {
        "id": "ktiGde1tI9gk",
        "colab": {
          "base_uri": "https://localhost:8080/"
        },
        "outputId": "8bf81beb-3425-4d18-8135-b454d9335d4b"
      },
      "cell_type": "code",
      "outputs": [
        {
          "output_type": "stream",
          "name": "stdout",
          "text": [
            "Downloading home-credit-credit-risk-model-stability, 3375704785 bytes compressed\n",
            "[==================================================] 3375704785 bytes downloaded\n",
            "Downloaded and uncompressed: home-credit-credit-risk-model-stability\n",
            "Data source import complete.\n"
          ]
        }
      ],
      "execution_count": 29
    },
    {
      "cell_type": "code",
      "source": [
        "! pip install -U \"neptune[optuna]\" optuna"
      ],
      "metadata": {
        "colab": {
          "base_uri": "https://localhost:8080/"
        },
        "id": "d9vU63ec2igT",
        "outputId": "1c3f7eaa-e47d-4501-89de-6b252aef0c54"
      },
      "execution_count": 30,
      "outputs": [
        {
          "output_type": "stream",
          "name": "stdout",
          "text": [
            "Collecting neptune[optuna]\n",
            "  Downloading neptune-1.10.2-py3-none-any.whl (502 kB)\n",
            "\u001b[?25l     \u001b[90m━━━━━━━━━━━━━━━━━━━━━━━━━━━━━━━━━━━━━━━━\u001b[0m \u001b[32m0.0/502.0 kB\u001b[0m \u001b[31m?\u001b[0m eta \u001b[36m-:--:--\u001b[0m\r\u001b[2K     \u001b[91m━━━━━━━━━━━━━━━━━━━━━━━━━━━━━━━━━━━━━━━\u001b[0m\u001b[91m╸\u001b[0m \u001b[32m501.8/502.0 kB\u001b[0m \u001b[31m15.7 MB/s\u001b[0m eta \u001b[36m0:00:01\u001b[0m\r\u001b[2K     \u001b[90m━━━━━━━━━━━━━━━━━━━━━━━━━━━━━━━━━━━━━━━━\u001b[0m \u001b[32m502.0/502.0 kB\u001b[0m \u001b[31m11.1 MB/s\u001b[0m eta \u001b[36m0:00:00\u001b[0m\n",
            "\u001b[?25hCollecting optuna\n",
            "  Downloading optuna-3.6.1-py3-none-any.whl (380 kB)\n",
            "\u001b[2K     \u001b[90m━━━━━━━━━━━━━━━━━━━━━━━━━━━━━━━━━━━━━━━━\u001b[0m \u001b[32m380.1/380.1 kB\u001b[0m \u001b[31m16.5 MB/s\u001b[0m eta \u001b[36m0:00:00\u001b[0m\n",
            "\u001b[?25hCollecting GitPython>=2.0.8 (from neptune[optuna])\n",
            "  Downloading GitPython-3.1.43-py3-none-any.whl (207 kB)\n",
            "\u001b[2K     \u001b[90m━━━━━━━━━━━━━━━━━━━━━━━━━━━━━━━━━━━━━━━━\u001b[0m \u001b[32m207.3/207.3 kB\u001b[0m \u001b[31m15.6 MB/s\u001b[0m eta \u001b[36m0:00:00\u001b[0m\n",
            "\u001b[?25hRequirement already satisfied: Pillow>=1.1.6 in /usr/local/lib/python3.10/dist-packages (from neptune[optuna]) (9.4.0)\n",
            "Requirement already satisfied: PyJWT in /usr/lib/python3/dist-packages (from neptune[optuna]) (2.3.0)\n",
            "Collecting boto3>=1.28.0 (from neptune[optuna])\n",
            "  Downloading boto3-1.34.93-py3-none-any.whl (139 kB)\n",
            "\u001b[2K     \u001b[90m━━━━━━━━━━━━━━━━━━━━━━━━━━━━━━━━━━━━━━━━\u001b[0m \u001b[32m139.3/139.3 kB\u001b[0m \u001b[31m13.7 MB/s\u001b[0m eta \u001b[36m0:00:00\u001b[0m\n",
            "\u001b[?25hCollecting bravado<12.0.0,>=11.0.0 (from neptune[optuna])\n",
            "  Downloading bravado-11.0.3-py2.py3-none-any.whl (38 kB)\n",
            "Requirement already satisfied: click>=7.0 in /usr/local/lib/python3.10/dist-packages (from neptune[optuna]) (8.1.7)\n",
            "Requirement already satisfied: future>=0.17.1 in /usr/local/lib/python3.10/dist-packages (from neptune[optuna]) (0.18.3)\n",
            "Requirement already satisfied: oauthlib>=2.1.0 in /usr/local/lib/python3.10/dist-packages (from neptune[optuna]) (3.2.2)\n",
            "Requirement already satisfied: packaging in /usr/local/lib/python3.10/dist-packages (from neptune[optuna]) (24.0)\n",
            "Requirement already satisfied: pandas in /usr/local/lib/python3.10/dist-packages (from neptune[optuna]) (2.0.3)\n",
            "Requirement already satisfied: psutil in /usr/local/lib/python3.10/dist-packages (from neptune[optuna]) (5.9.5)\n",
            "Requirement already satisfied: requests>=2.20.0 in /usr/local/lib/python3.10/dist-packages (from neptune[optuna]) (2.31.0)\n",
            "Requirement already satisfied: requests-oauthlib>=1.0.0 in /usr/local/lib/python3.10/dist-packages (from neptune[optuna]) (1.3.1)\n",
            "Requirement already satisfied: six>=1.12.0 in /usr/local/lib/python3.10/dist-packages (from neptune[optuna]) (1.16.0)\n",
            "Collecting swagger-spec-validator>=2.7.4 (from neptune[optuna])\n",
            "  Downloading swagger_spec_validator-3.0.3-py2.py3-none-any.whl (27 kB)\n",
            "Requirement already satisfied: typing-extensions>=3.10.0 in /usr/local/lib/python3.10/dist-packages (from neptune[optuna]) (4.11.0)\n",
            "Requirement already satisfied: urllib3 in /usr/local/lib/python3.10/dist-packages (from neptune[optuna]) (2.0.7)\n",
            "Requirement already satisfied: websocket-client!=1.0.0,>=0.35.0 in /usr/local/lib/python3.10/dist-packages (from neptune[optuna]) (1.7.0)\n",
            "Collecting neptune-optuna (from neptune[optuna])\n",
            "  Downloading neptune_optuna-1.2.0-py3-none-any.whl (14 kB)\n",
            "Collecting alembic>=1.5.0 (from optuna)\n",
            "  Downloading alembic-1.13.1-py3-none-any.whl (233 kB)\n",
            "\u001b[2K     \u001b[90m━━━━━━━━━━━━━━━━━━━━━━━━━━━━━━━━━━━━━━━━\u001b[0m \u001b[32m233.4/233.4 kB\u001b[0m \u001b[31m15.4 MB/s\u001b[0m eta \u001b[36m0:00:00\u001b[0m\n",
            "\u001b[?25hCollecting colorlog (from optuna)\n",
            "  Downloading colorlog-6.8.2-py3-none-any.whl (11 kB)\n",
            "Requirement already satisfied: numpy in /usr/local/lib/python3.10/dist-packages (from optuna) (1.25.2)\n",
            "Requirement already satisfied: sqlalchemy>=1.3.0 in /usr/local/lib/python3.10/dist-packages (from optuna) (2.0.29)\n",
            "Requirement already satisfied: tqdm in /usr/local/lib/python3.10/dist-packages (from optuna) (4.66.2)\n",
            "Requirement already satisfied: PyYAML in /usr/local/lib/python3.10/dist-packages (from optuna) (6.0.1)\n",
            "Collecting Mako (from alembic>=1.5.0->optuna)\n",
            "  Downloading Mako-1.3.3-py3-none-any.whl (78 kB)\n",
            "\u001b[2K     \u001b[90m━━━━━━━━━━━━━━━━━━━━━━━━━━━━━━━━━━━━━━━━\u001b[0m \u001b[32m78.8/78.8 kB\u001b[0m \u001b[31m7.6 MB/s\u001b[0m eta \u001b[36m0:00:00\u001b[0m\n",
            "\u001b[?25hCollecting botocore<1.35.0,>=1.34.93 (from boto3>=1.28.0->neptune[optuna])\n",
            "  Downloading botocore-1.34.93-py3-none-any.whl (12.2 MB)\n",
            "\u001b[2K     \u001b[90m━━━━━━━━━━━━━━━━━━━━━━━━━━━━━━━━━━━━━━━━\u001b[0m \u001b[32m12.2/12.2 MB\u001b[0m \u001b[31m68.4 MB/s\u001b[0m eta \u001b[36m0:00:00\u001b[0m\n",
            "\u001b[?25hCollecting jmespath<2.0.0,>=0.7.1 (from boto3>=1.28.0->neptune[optuna])\n",
            "  Downloading jmespath-1.0.1-py3-none-any.whl (20 kB)\n",
            "Collecting s3transfer<0.11.0,>=0.10.0 (from boto3>=1.28.0->neptune[optuna])\n",
            "  Downloading s3transfer-0.10.1-py3-none-any.whl (82 kB)\n",
            "\u001b[2K     \u001b[90m━━━━━━━━━━━━━━━━━━━━━━━━━━━━━━━━━━━━━━━━\u001b[0m \u001b[32m82.2/82.2 kB\u001b[0m \u001b[31m8.6 MB/s\u001b[0m eta \u001b[36m0:00:00\u001b[0m\n",
            "\u001b[?25hCollecting bravado-core>=5.16.1 (from bravado<12.0.0,>=11.0.0->neptune[optuna])\n",
            "  Downloading bravado-core-6.1.1.tar.gz (63 kB)\n",
            "\u001b[2K     \u001b[90m━━━━━━━━━━━━━━━━━━━━━━━━━━━━━━━━━━━━━━━━\u001b[0m \u001b[32m63.9/63.9 kB\u001b[0m \u001b[31m6.8 MB/s\u001b[0m eta \u001b[36m0:00:00\u001b[0m\n",
            "\u001b[?25h  Preparing metadata (setup.py) ... \u001b[?25l\u001b[?25hdone\n",
            "Requirement already satisfied: msgpack in /usr/local/lib/python3.10/dist-packages (from bravado<12.0.0,>=11.0.0->neptune[optuna]) (1.0.8)\n",
            "Requirement already satisfied: python-dateutil in /usr/local/lib/python3.10/dist-packages (from bravado<12.0.0,>=11.0.0->neptune[optuna]) (2.8.2)\n",
            "Collecting simplejson (from bravado<12.0.0,>=11.0.0->neptune[optuna])\n",
            "  Downloading simplejson-3.19.2-cp310-cp310-manylinux_2_5_x86_64.manylinux1_x86_64.manylinux_2_17_x86_64.manylinux2014_x86_64.whl (137 kB)\n",
            "\u001b[2K     \u001b[90m━━━━━━━━━━━━━━━━━━━━━━━━━━━━━━━━━━━━━━━━\u001b[0m \u001b[32m137.9/137.9 kB\u001b[0m \u001b[31m7.4 MB/s\u001b[0m eta \u001b[36m0:00:00\u001b[0m\n",
            "\u001b[?25hCollecting monotonic (from bravado<12.0.0,>=11.0.0->neptune[optuna])\n",
            "  Downloading monotonic-1.6-py2.py3-none-any.whl (8.2 kB)\n",
            "Collecting gitdb<5,>=4.0.1 (from GitPython>=2.0.8->neptune[optuna])\n",
            "  Downloading gitdb-4.0.11-py3-none-any.whl (62 kB)\n",
            "\u001b[2K     \u001b[90m━━━━━━━━━━━━━━━━━━━━━━━━━━━━━━━━━━━━━━━━\u001b[0m \u001b[32m62.7/62.7 kB\u001b[0m \u001b[31m7.0 MB/s\u001b[0m eta \u001b[36m0:00:00\u001b[0m\n",
            "\u001b[?25hRequirement already satisfied: charset-normalizer<4,>=2 in /usr/local/lib/python3.10/dist-packages (from requests>=2.20.0->neptune[optuna]) (3.3.2)\n",
            "Requirement already satisfied: idna<4,>=2.5 in /usr/local/lib/python3.10/dist-packages (from requests>=2.20.0->neptune[optuna]) (3.7)\n",
            "Requirement already satisfied: certifi>=2017.4.17 in /usr/local/lib/python3.10/dist-packages (from requests>=2.20.0->neptune[optuna]) (2024.2.2)\n",
            "Requirement already satisfied: greenlet!=0.4.17 in /usr/local/lib/python3.10/dist-packages (from sqlalchemy>=1.3.0->optuna) (3.0.3)\n",
            "Requirement already satisfied: jsonschema in /usr/local/lib/python3.10/dist-packages (from swagger-spec-validator>=2.7.4->neptune[optuna]) (4.19.2)\n",
            "Requirement already satisfied: plotly in /usr/local/lib/python3.10/dist-packages (from neptune-optuna->neptune[optuna]) (5.15.0)\n",
            "Requirement already satisfied: scikit-learn in /usr/local/lib/python3.10/dist-packages (from neptune-optuna->neptune[optuna]) (1.2.2)\n",
            "Requirement already satisfied: pytz>=2020.1 in /usr/local/lib/python3.10/dist-packages (from pandas->neptune[optuna]) (2023.4)\n",
            "Requirement already satisfied: tzdata>=2022.1 in /usr/local/lib/python3.10/dist-packages (from pandas->neptune[optuna]) (2024.1)\n",
            "Collecting jsonref (from bravado-core>=5.16.1->bravado<12.0.0,>=11.0.0->neptune[optuna])\n",
            "  Downloading jsonref-1.1.0-py3-none-any.whl (9.4 kB)\n",
            "Collecting smmap<6,>=3.0.1 (from gitdb<5,>=4.0.1->GitPython>=2.0.8->neptune[optuna])\n",
            "  Downloading smmap-5.0.1-py3-none-any.whl (24 kB)\n",
            "Requirement already satisfied: attrs>=22.2.0 in /usr/local/lib/python3.10/dist-packages (from jsonschema->swagger-spec-validator>=2.7.4->neptune[optuna]) (23.2.0)\n",
            "Requirement already satisfied: jsonschema-specifications>=2023.03.6 in /usr/local/lib/python3.10/dist-packages (from jsonschema->swagger-spec-validator>=2.7.4->neptune[optuna]) (2023.12.1)\n",
            "Requirement already satisfied: referencing>=0.28.4 in /usr/local/lib/python3.10/dist-packages (from jsonschema->swagger-spec-validator>=2.7.4->neptune[optuna]) (0.34.0)\n",
            "Requirement already satisfied: rpds-py>=0.7.1 in /usr/local/lib/python3.10/dist-packages (from jsonschema->swagger-spec-validator>=2.7.4->neptune[optuna]) (0.18.0)\n",
            "Requirement already satisfied: MarkupSafe>=0.9.2 in /usr/local/lib/python3.10/dist-packages (from Mako->alembic>=1.5.0->optuna) (2.1.5)\n",
            "Requirement already satisfied: tenacity>=6.2.0 in /usr/local/lib/python3.10/dist-packages (from plotly->neptune-optuna->neptune[optuna]) (8.2.3)\n",
            "Requirement already satisfied: scipy>=1.3.2 in /usr/local/lib/python3.10/dist-packages (from scikit-learn->neptune-optuna->neptune[optuna]) (1.11.4)\n",
            "Requirement already satisfied: joblib>=1.1.1 in /usr/local/lib/python3.10/dist-packages (from scikit-learn->neptune-optuna->neptune[optuna]) (1.4.0)\n",
            "Requirement already satisfied: threadpoolctl>=2.0.0 in /usr/local/lib/python3.10/dist-packages (from scikit-learn->neptune-optuna->neptune[optuna]) (3.4.0)\n",
            "Collecting fqdn (from jsonschema->swagger-spec-validator>=2.7.4->neptune[optuna])\n",
            "  Downloading fqdn-1.5.1-py3-none-any.whl (9.1 kB)\n",
            "Collecting isoduration (from jsonschema->swagger-spec-validator>=2.7.4->neptune[optuna])\n",
            "  Downloading isoduration-20.11.0-py3-none-any.whl (11 kB)\n",
            "Collecting jsonpointer>1.13 (from jsonschema->swagger-spec-validator>=2.7.4->neptune[optuna])\n",
            "  Downloading jsonpointer-2.4-py2.py3-none-any.whl (7.8 kB)\n",
            "Collecting rfc3339-validator (from jsonschema->swagger-spec-validator>=2.7.4->neptune[optuna])\n",
            "  Downloading rfc3339_validator-0.1.4-py2.py3-none-any.whl (3.5 kB)\n",
            "Collecting rfc3986-validator>0.1.0 (from jsonschema->swagger-spec-validator>=2.7.4->neptune[optuna])\n",
            "  Downloading rfc3986_validator-0.1.1-py2.py3-none-any.whl (4.2 kB)\n",
            "Collecting uri-template (from jsonschema->swagger-spec-validator>=2.7.4->neptune[optuna])\n",
            "  Downloading uri_template-1.3.0-py3-none-any.whl (11 kB)\n",
            "Requirement already satisfied: webcolors>=1.11 in /usr/local/lib/python3.10/dist-packages (from jsonschema->swagger-spec-validator>=2.7.4->neptune[optuna]) (1.13)\n",
            "Collecting arrow>=0.15.0 (from isoduration->jsonschema->swagger-spec-validator>=2.7.4->neptune[optuna])\n",
            "  Downloading arrow-1.3.0-py3-none-any.whl (66 kB)\n",
            "\u001b[2K     \u001b[90m━━━━━━━━━━━━━━━━━━━━━━━━━━━━━━━━━━━━━━━━\u001b[0m \u001b[32m66.4/66.4 kB\u001b[0m \u001b[31m5.6 MB/s\u001b[0m eta \u001b[36m0:00:00\u001b[0m\n",
            "\u001b[?25hCollecting types-python-dateutil>=2.8.10 (from arrow>=0.15.0->isoduration->jsonschema->swagger-spec-validator>=2.7.4->neptune[optuna])\n",
            "  Downloading types_python_dateutil-2.9.0.20240316-py3-none-any.whl (9.7 kB)\n",
            "Building wheels for collected packages: bravado-core\n",
            "  Building wheel for bravado-core (setup.py) ... \u001b[?25l\u001b[?25hdone\n",
            "  Created wheel for bravado-core: filename=bravado_core-6.1.1-py2.py3-none-any.whl size=67672 sha256=8da12c7e83a38db7fcfa90a4c5c367b9216e8ec185df4c5bb06a8b8b5cd95871\n",
            "  Stored in directory: /root/.cache/pip/wheels/42/35/4a/44ec4c358db21a5d63ed4e40f0f0012a438106f220bce4ccba\n",
            "Successfully built bravado-core\n",
            "Installing collected packages: monotonic, uri-template, types-python-dateutil, smmap, simplejson, rfc3986-validator, rfc3339-validator, Mako, jsonref, jsonpointer, jmespath, fqdn, colorlog, gitdb, botocore, arrow, alembic, s3transfer, optuna, isoduration, GitPython, swagger-spec-validator, neptune-optuna, boto3, bravado-core, bravado, neptune\n",
            "Successfully installed GitPython-3.1.43 Mako-1.3.3 alembic-1.13.1 arrow-1.3.0 boto3-1.34.93 botocore-1.34.93 bravado-11.0.3 bravado-core-6.1.1 colorlog-6.8.2 fqdn-1.5.1 gitdb-4.0.11 isoduration-20.11.0 jmespath-1.0.1 jsonpointer-2.4 jsonref-1.1.0 monotonic-1.6 neptune-1.10.2 neptune-optuna-1.2.0 optuna-3.6.1 rfc3339-validator-0.1.4 rfc3986-validator-0.1.1 s3transfer-0.10.1 simplejson-3.19.2 smmap-5.0.1 swagger-spec-validator-3.0.3 types-python-dateutil-2.9.0.20240316 uri-template-1.3.0\n"
          ]
        }
      ]
    },
    {
      "cell_type": "code",
      "source": [
        "# Note: I'm looking for a job in Europe, if you like my work don't hesitate to reach =)\n",
        "\n",
        "import os\n",
        "import gc\n",
        "from glob import glob\n",
        "from pathlib import Path\n",
        "from datetime import datetime\n",
        "\n",
        "import numpy as np\n",
        "import pandas as pd\n",
        "import polars as pl\n",
        "\n",
        "import matplotlib.pyplot as plt\n",
        "import seaborn as sns\n",
        "\n",
        "from sklearn.model_selection import StratifiedGroupKFold\n",
        "from sklearn.base import BaseEstimator, ClassifierMixin\n",
        "\n",
        "import lightgbm as lgb\n",
        "\n",
        "import warnings\n",
        "warnings.simplefilter(action='ignore', category=FutureWarning)"
      ],
      "metadata": {
        "_uuid": "8f2839f25d086af736a60e9eeb907d3b93b6e0e5",
        "_cell_guid": "b1076dfc-b9ad-4769-8c92-a6c4dae69d19",
        "execution": {
          "iopub.status.busy": "2024-04-27T05:57:09.901117Z",
          "iopub.execute_input": "2024-04-27T05:57:09.901478Z",
          "iopub.status.idle": "2024-04-27T05:57:16.644444Z",
          "shell.execute_reply.started": "2024-04-27T05:57:09.901446Z",
          "shell.execute_reply": "2024-04-27T05:57:16.643446Z"
        },
        "trusted": true,
        "id": "lMCsw-OfI9gm"
      },
      "execution_count": 31,
      "outputs": []
    },
    {
      "cell_type": "markdown",
      "source": [
        "### Pre-Fitted Voting Model"
      ],
      "metadata": {
        "id": "FodNtpS2I9gm"
      }
    },
    {
      "cell_type": "code",
      "source": [
        "class VotingModel(BaseEstimator, ClassifierMixin):\n",
        "    def __init__(self, estimators):\n",
        "        super().__init__()\n",
        "        self.estimators = estimators\n",
        "\n",
        "    def fit(self, X, y=None):\n",
        "        return self\n",
        "\n",
        "    def predict(self, X):\n",
        "        y_preds = [estimator.predict(X) for estimator in self.estimators]\n",
        "        return np.mean(y_preds, axis=0)\n",
        "\n",
        "    def predict_proba(self, X):\n",
        "        y_preds = [estimator.predict_proba(X) for estimator in self.estimators]\n",
        "        return np.mean(y_preds, axis=0)"
      ],
      "metadata": {
        "execution": {
          "iopub.status.busy": "2024-04-27T05:57:23.950453Z",
          "iopub.execute_input": "2024-04-27T05:57:23.95115Z",
          "iopub.status.idle": "2024-04-27T05:57:23.957659Z",
          "shell.execute_reply.started": "2024-04-27T05:57:23.951116Z",
          "shell.execute_reply": "2024-04-27T05:57:23.956791Z"
        },
        "trusted": true,
        "id": "UgEz8JAaI9gn"
      },
      "execution_count": 32,
      "outputs": []
    },
    {
      "cell_type": "markdown",
      "source": [
        "### Pipeline"
      ],
      "metadata": {
        "id": "gy5DU9xoI9gn"
      }
    },
    {
      "cell_type": "code",
      "source": [
        "class Pipeline:\n",
        "    @staticmethod # belongs to class , no object association\n",
        "    def set_table_dtypes(df):\n",
        "        for col in df.columns:\n",
        "            if col in [\"case_id\", \"WEEK_NUM\", \"num_group1\", \"num_group2\"]:\n",
        "                df = df.with_columns(pl.col(col).cast(pl.Int32))\n",
        "            elif col in [\"date_decision\"]:\n",
        "                df = df.with_columns(pl.col(col).cast(pl.Date))\n",
        "            elif col[-1] in (\"P\", \"A\"):\n",
        "                df = df.with_columns(pl.col(col).cast(pl.Float64))\n",
        "            elif col[-1] in (\"M\",):\n",
        "                df = df.with_columns(pl.col(col).cast(pl.Categorical))\n",
        "            elif col[-1] in (\"D\",):\n",
        "                df = df.with_columns(pl.col(col).cast(pl.Date))\n",
        "\n",
        "        return df\n",
        "\n",
        "    @staticmethod\n",
        "    def handle_dates(df):\n",
        "        for col in df.columns:\n",
        "            if col[-1] in (\"D\",):\n",
        "                df = df.with_columns(pl.col(col) - pl.col(\"date_decision\"))\n",
        "                df = df.with_columns(pl.col(col).dt.total_days())\n",
        "                df = df.with_columns(pl.col(col).cast(pl.Float32))\n",
        "\n",
        "        df = df.drop(\"date_decision\", \"MONTH\")\n",
        "\n",
        "        return df\n",
        "\n",
        "    @staticmethod\n",
        "    def filter_cols(df):\n",
        "        \"\"\"\n",
        "        Removes columns with more than 95% missing values.\n",
        "        Removes columns with only one unique value.\n",
        "        \"\"\"\n",
        "        df_95=[]\n",
        "        for col in df.columns:\n",
        "            if col not in [\"target\", \"case_id\", \"WEEK_NUM\"]:\n",
        "                isnull = df[col].is_null().mean()\n",
        "\n",
        "                if isnull > 0.95:\n",
        "                    # df = df.drop(col)\n",
        "                    df_95.append(col)\n",
        "\n",
        "        print(\"Columns with more than 95% null values\",len(df_95))\n",
        "\n",
        "        for col in df.columns:\n",
        "            if (col not in [\"target\", \"case_id\", \"WEEK_NUM\"]) & (df[col].dtype == pl.Categorical):\n",
        "                freq = df[col].n_unique()\n",
        "\n",
        "                # if (freq == 1) | (freq > 200): # commented on 28 April 24\n",
        "                if (freq == 1):\n",
        "                    df = df.drop(col)\n",
        "\n",
        "        return df"
      ],
      "metadata": {
        "execution": {
          "iopub.status.busy": "2024-04-27T05:57:30.050421Z",
          "iopub.execute_input": "2024-04-27T05:57:30.050765Z",
          "iopub.status.idle": "2024-04-27T05:57:30.064007Z",
          "shell.execute_reply.started": "2024-04-27T05:57:30.050739Z",
          "shell.execute_reply": "2024-04-27T05:57:30.062896Z"
        },
        "trusted": true,
        "id": "8k7KaKhpI9gn"
      },
      "execution_count": 33,
      "outputs": []
    },
    {
      "cell_type": "markdown",
      "source": [
        "### Automatic Aggregation"
      ],
      "metadata": {
        "id": "tUB2w7-QI9go"
      }
    },
    {
      "cell_type": "code",
      "source": [
        "class Aggregator:\n",
        "    @staticmethod\n",
        "    def num_expr(df):\n",
        "        cols = [col for col in df.columns if col[-1] in (\"P\", \"A\")]\n",
        "\n",
        "        expr_max = [pl.max(col).alias(f\"max_{col}\") for col in cols]\n",
        "\n",
        "        return expr_max\n",
        "\n",
        "    @staticmethod\n",
        "    def date_expr(df):\n",
        "        cols = [col for col in df.columns if col[-1] in (\"D\",)]\n",
        "\n",
        "        expr_max = [pl.max(col).alias(f\"max_{col}\") for col in cols]\n",
        "\n",
        "        return expr_max\n",
        "\n",
        "    @staticmethod\n",
        "    def str_expr(df):\n",
        "        cols = [col for col in df.columns if col[-1] in (\"M\",)]\n",
        "\n",
        "        expr_max = [pl.max(col).alias(f\"max_{col}\") for col in cols]\n",
        "\n",
        "        return expr_max\n",
        "\n",
        "    @staticmethod\n",
        "    def other_expr(df):\n",
        "        cols = [col for col in df.columns if col[-1] in (\"T\", \"L\")]\n",
        "\n",
        "        expr_max = [pl.max(col).alias(f\"max_{col}\") for col in cols]\n",
        "\n",
        "        return expr_max\n",
        "\n",
        "    @staticmethod\n",
        "    def count_expr(df):\n",
        "        cols = [col for col in df.columns if \"num_group\" in col]\n",
        "\n",
        "        expr_max = [pl.max(col).alias(f\"max_{col}\") for col in cols]\n",
        "\n",
        "        return expr_max\n",
        "\n",
        "    @staticmethod\n",
        "    def get_exprs(df):\n",
        "        exprs = Aggregator.num_expr(df) + \\\n",
        "                Aggregator.date_expr(df) + \\\n",
        "                Aggregator.str_expr(df) + \\\n",
        "                Aggregator.other_expr(df) + \\\n",
        "                Aggregator.count_expr(df)\n",
        "\n",
        "        return exprs"
      ],
      "metadata": {
        "execution": {
          "iopub.status.busy": "2024-04-27T05:57:35.31807Z",
          "iopub.execute_input": "2024-04-27T05:57:35.318944Z",
          "iopub.status.idle": "2024-04-27T05:57:35.329679Z",
          "shell.execute_reply.started": "2024-04-27T05:57:35.318908Z",
          "shell.execute_reply": "2024-04-27T05:57:35.328731Z"
        },
        "trusted": true,
        "id": "wujYaWpuI9go"
      },
      "execution_count": 34,
      "outputs": []
    },
    {
      "cell_type": "markdown",
      "source": [
        "### File I/O"
      ],
      "metadata": {
        "id": "kDa1MO7FI9go"
      }
    },
    {
      "cell_type": "code",
      "source": [
        "def read_file(path, depth=None):\n",
        "    df = pl.read_parquet(path)\n",
        "    df = df.pipe(Pipeline.set_table_dtypes)\n",
        "\n",
        "    if depth in [1, 2]:\n",
        "        df = df.group_by(\"case_id\").agg(Aggregator.get_exprs(df))\n",
        "\n",
        "    return df\n",
        "\n",
        "def read_files(regex_path, depth=None):\n",
        "    chunks = []\n",
        "    for path in glob(str(regex_path)):\n",
        "        df = pl.read_parquet(path)\n",
        "        df = df.pipe(Pipeline.set_table_dtypes)\n",
        "\n",
        "        if depth in [1, 2]:\n",
        "            df = df.group_by(\"case_id\").agg(Aggregator.get_exprs(df))\n",
        "\n",
        "        chunks.append(df)\n",
        "\n",
        "    df = pl.concat(chunks, how=\"vertical_relaxed\")\n",
        "    df = df.unique(subset=[\"case_id\"])\n",
        "\n",
        "    return df"
      ],
      "metadata": {
        "execution": {
          "iopub.status.busy": "2024-04-27T06:00:38.592629Z",
          "iopub.execute_input": "2024-04-27T06:00:38.593347Z",
          "iopub.status.idle": "2024-04-27T06:00:38.601Z",
          "shell.execute_reply.started": "2024-04-27T06:00:38.593312Z",
          "shell.execute_reply": "2024-04-27T06:00:38.599995Z"
        },
        "trusted": true,
        "id": "GYPwqQkkI9go"
      },
      "execution_count": 35,
      "outputs": []
    },
    {
      "cell_type": "markdown",
      "source": [
        "### Feature Engineering"
      ],
      "metadata": {
        "id": "IkQQKgomI9go"
      }
    },
    {
      "cell_type": "code",
      "source": [
        "def feature_eng(df_base, depth_0, depth_1, depth_2):\n",
        "    df_base = (\n",
        "        df_base\n",
        "        .with_columns(\n",
        "            month_decision = pl.col(\"date_decision\").dt.month(),\n",
        "            weekday_decision = pl.col(\"date_decision\").dt.weekday(),\n",
        "        )\n",
        "    )\n",
        "\n",
        "    for i, df in enumerate(depth_0 + depth_1 + depth_2):\n",
        "        df_base = df_base.join(df, how=\"left\", on=\"case_id\", suffix=f\"_{i}\")\n",
        "\n",
        "    df_base = df_base.pipe(Pipeline.handle_dates)\n",
        "\n",
        "    return df_base"
      ],
      "metadata": {
        "execution": {
          "iopub.status.busy": "2024-04-27T06:00:40.836141Z",
          "iopub.execute_input": "2024-04-27T06:00:40.836516Z",
          "iopub.status.idle": "2024-04-27T06:00:40.842858Z",
          "shell.execute_reply.started": "2024-04-27T06:00:40.836486Z",
          "shell.execute_reply": "2024-04-27T06:00:40.841862Z"
        },
        "trusted": true,
        "id": "aufbvLrnI9go"
      },
      "execution_count": 36,
      "outputs": []
    },
    {
      "cell_type": "code",
      "source": [
        "def to_pandas(df_data, cat_cols=None):\n",
        "    df_data = df_data.to_pandas()\n",
        "\n",
        "    if cat_cols is None:\n",
        "        cat_cols = list(df_data.select_dtypes(\"object\").columns)\n",
        "\n",
        "    df_data[cat_cols] = df_data[cat_cols].astype(\"category\")\n",
        "\n",
        "    return df_data, cat_cols"
      ],
      "metadata": {
        "execution": {
          "iopub.status.busy": "2024-04-27T06:00:41.284191Z",
          "iopub.execute_input": "2024-04-27T06:00:41.284555Z",
          "iopub.status.idle": "2024-04-27T06:00:41.289746Z",
          "shell.execute_reply.started": "2024-04-27T06:00:41.284526Z",
          "shell.execute_reply": "2024-04-27T06:00:41.288844Z"
        },
        "trusted": true,
        "id": "Zc-KOyrNI9gp"
      },
      "execution_count": 37,
      "outputs": []
    },
    {
      "cell_type": "markdown",
      "source": [
        "### Configuration"
      ],
      "metadata": {
        "id": "GCgmtowdI9gp"
      }
    },
    {
      "cell_type": "code",
      "source": [
        "ROOT            = Path(\"/kaggle/input/home-credit-credit-risk-model-stability\")\n",
        "TRAIN_DIR       = ROOT / \"parquet_files\" / \"train\"\n",
        "TEST_DIR        = ROOT / \"parquet_files\" / \"test\""
      ],
      "metadata": {
        "execution": {
          "iopub.status.busy": "2024-04-27T06:00:42.376087Z",
          "iopub.execute_input": "2024-04-27T06:00:42.376481Z",
          "iopub.status.idle": "2024-04-27T06:00:42.381496Z",
          "shell.execute_reply.started": "2024-04-27T06:00:42.376441Z",
          "shell.execute_reply": "2024-04-27T06:00:42.380457Z"
        },
        "trusted": true,
        "id": "KMQGpGi4I9gp"
      },
      "execution_count": 38,
      "outputs": []
    },
    {
      "cell_type": "markdown",
      "source": [
        "### Train Files Read & Feature Engineering"
      ],
      "metadata": {
        "id": "5TB3gwVII9gp"
      }
    },
    {
      "cell_type": "code",
      "source": [
        "data_store = {\n",
        "    \"df_base\": read_file(TRAIN_DIR / \"train_base.parquet\"),\n",
        "    \"depth_0\": [\n",
        "        read_file(TRAIN_DIR / \"train_static_cb_0.parquet\"),\n",
        "        read_files(TRAIN_DIR / \"train_static_0_*.parquet\"),\n",
        "    ],\n",
        "    \"depth_1\": [\n",
        "        read_files(TRAIN_DIR / \"train_applprev_1_*.parquet\", 1),\n",
        "        read_file(TRAIN_DIR / \"train_tax_registry_a_1.parquet\", 1),\n",
        "        read_file(TRAIN_DIR / \"train_tax_registry_b_1.parquet\", 1),\n",
        "        read_file(TRAIN_DIR / \"train_tax_registry_c_1.parquet\", 1),\n",
        "        read_files(TRAIN_DIR / \"train_credit_bureau_a_1_*.parquet\", 1),\n",
        "        read_file(TRAIN_DIR / \"train_credit_bureau_b_1.parquet\", 1),\n",
        "        read_file(TRAIN_DIR / \"train_other_1.parquet\", 1),\n",
        "        read_file(TRAIN_DIR / \"train_person_1.parquet\", 1),\n",
        "        read_file(TRAIN_DIR / \"train_deposit_1.parquet\", 1),\n",
        "        read_file(TRAIN_DIR / \"train_debitcard_1.parquet\", 1),\n",
        "    ],\n",
        "    \"depth_2\": [\n",
        "        read_file(TRAIN_DIR / \"train_credit_bureau_b_2.parquet\", 2),\n",
        "        read_files(TRAIN_DIR / \"train_credit_bureau_a_2_*.parquet\", 2),\n",
        "    ]\n",
        "}"
      ],
      "metadata": {
        "execution": {
          "iopub.status.busy": "2024-04-27T06:00:43.924331Z",
          "iopub.execute_input": "2024-04-27T06:00:43.924742Z",
          "iopub.status.idle": "2024-04-27T06:02:57.705822Z",
          "shell.execute_reply.started": "2024-04-27T06:00:43.924709Z",
          "shell.execute_reply": "2024-04-27T06:02:57.704528Z"
        },
        "trusted": true,
        "id": "hOyV17V0I9gp",
        "colab": {
          "base_uri": "https://localhost:8080/"
        },
        "outputId": "323488b9-f275-47fd-a2ae-083ba944551f"
      },
      "execution_count": 39,
      "outputs": [
        {
          "output_type": "stream",
          "name": "stderr",
          "text": [
            "<ipython-input-35-22f16d7b69a4>:21: CategoricalRemappingWarning: Local categoricals have different encodings, expensive re-encoding is done to perform this merge operation. Consider using a StringCache or an Enum type if the categories are known in advance\n",
            "  df = pl.concat(chunks, how=\"vertical_relaxed\")\n"
          ]
        }
      ]
    },
    {
      "cell_type": "code",
      "source": [
        "df_train = feature_eng(**data_store)\n",
        "\n",
        "print(\"train data shape:\\t\", df_train.shape)"
      ],
      "metadata": {
        "execution": {
          "iopub.status.busy": "2024-04-27T06:02:57.71028Z",
          "iopub.execute_input": "2024-04-27T06:02:57.710645Z",
          "iopub.status.idle": "2024-04-27T06:03:11.077037Z",
          "shell.execute_reply.started": "2024-04-27T06:02:57.710615Z",
          "shell.execute_reply": "2024-04-27T06:03:11.076006Z"
        },
        "trusted": true,
        "id": "_OobeuHSI9gq",
        "outputId": "65c15d39-31d4-4e17-bf87-6c52f47e02e1",
        "colab": {
          "base_uri": "https://localhost:8080/"
        }
      },
      "execution_count": 40,
      "outputs": [
        {
          "output_type": "stream",
          "name": "stdout",
          "text": [
            "train data shape:\t (1526659, 472)\n"
          ]
        }
      ]
    },
    {
      "cell_type": "markdown",
      "source": [
        "### Test Files Read & Feature Engineering"
      ],
      "metadata": {
        "id": "wKtmOsE0I9gq"
      }
    },
    {
      "cell_type": "code",
      "source": [
        "data_store = {\n",
        "    \"df_base\": read_file(TEST_DIR / \"test_base.parquet\"),\n",
        "    \"depth_0\": [\n",
        "        read_file(TEST_DIR / \"test_static_cb_0.parquet\"),\n",
        "        read_files(TEST_DIR / \"test_static_0_*.parquet\"),\n",
        "    ],\n",
        "    \"depth_1\": [\n",
        "        read_files(TEST_DIR / \"test_applprev_1_*.parquet\", 1),\n",
        "        read_file(TEST_DIR / \"test_tax_registry_a_1.parquet\", 1),\n",
        "        read_file(TEST_DIR / \"test_tax_registry_b_1.parquet\", 1),\n",
        "        read_file(TEST_DIR / \"test_tax_registry_c_1.parquet\", 1),\n",
        "        read_files(TEST_DIR / \"test_credit_bureau_a_1_*.parquet\", 1),\n",
        "        read_file(TEST_DIR / \"test_credit_bureau_b_1.parquet\", 1),\n",
        "        read_file(TEST_DIR / \"test_other_1.parquet\", 1),\n",
        "        read_file(TEST_DIR / \"test_person_1.parquet\", 1),\n",
        "        read_file(TEST_DIR / \"test_deposit_1.parquet\", 1),\n",
        "        read_file(TEST_DIR / \"test_debitcard_1.parquet\", 1),\n",
        "    ],\n",
        "    \"depth_2\": [\n",
        "        read_file(TEST_DIR / \"test_credit_bureau_b_2.parquet\", 2),\n",
        "        read_files(TEST_DIR / \"test_credit_bureau_a_2_*.parquet\", 2),\n",
        "    ]\n",
        "}"
      ],
      "metadata": {
        "execution": {
          "iopub.status.busy": "2024-03-11T19:59:20.574934Z",
          "iopub.execute_input": "2024-03-11T19:59:20.575209Z",
          "iopub.status.idle": "2024-03-11T19:59:21.21612Z",
          "shell.execute_reply.started": "2024-03-11T19:59:20.575186Z",
          "shell.execute_reply": "2024-03-11T19:59:21.215229Z"
        },
        "trusted": true,
        "id": "YUOyHp2lI9gq",
        "colab": {
          "base_uri": "https://localhost:8080/"
        },
        "outputId": "7b4ff0aa-52dd-456f-9681-2c3b6f4d86b3"
      },
      "execution_count": 41,
      "outputs": [
        {
          "output_type": "stream",
          "name": "stderr",
          "text": [
            "<ipython-input-35-22f16d7b69a4>:21: CategoricalRemappingWarning: Local categoricals have different encodings, expensive re-encoding is done to perform this merge operation. Consider using a StringCache or an Enum type if the categories are known in advance\n",
            "  df = pl.concat(chunks, how=\"vertical_relaxed\")\n"
          ]
        }
      ]
    },
    {
      "cell_type": "code",
      "source": [
        "df_test = feature_eng(**data_store)\n",
        "\n",
        "print(\"test data shape:\\t\", df_test.shape)"
      ],
      "metadata": {
        "execution": {
          "iopub.status.busy": "2024-03-11T19:59:21.217324Z",
          "iopub.execute_input": "2024-03-11T19:59:21.217632Z",
          "iopub.status.idle": "2024-03-11T19:59:21.260441Z",
          "shell.execute_reply.started": "2024-03-11T19:59:21.217606Z",
          "shell.execute_reply": "2024-03-11T19:59:21.259468Z"
        },
        "trusted": true,
        "id": "5sKS3r5SI9gq",
        "colab": {
          "base_uri": "https://localhost:8080/"
        },
        "outputId": "ebbcd67e-7a35-448d-8525-cf08bbd42c09"
      },
      "execution_count": 42,
      "outputs": [
        {
          "output_type": "stream",
          "name": "stdout",
          "text": [
            "test data shape:\t (10, 471)\n"
          ]
        }
      ]
    },
    {
      "cell_type": "markdown",
      "source": [
        "### Feature Elimination"
      ],
      "metadata": {
        "id": "N1a7VoONI9gq"
      }
    },
    {
      "cell_type": "code",
      "source": [
        "df_train = df_train.pipe(Pipeline.filter_cols)\n",
        "df_test = df_test.select([col for col in df_train.columns if col != \"target\"])\n",
        "\n",
        "print(\"train data shape:\\t\", df_train.shape)\n",
        "print(\"test data shape:\\t\", df_test.shape)"
      ],
      "metadata": {
        "execution": {
          "iopub.status.busy": "2024-03-11T19:59:21.261413Z",
          "iopub.execute_input": "2024-03-11T19:59:21.261688Z",
          "iopub.status.idle": "2024-03-11T19:59:24.355421Z",
          "shell.execute_reply.started": "2024-03-11T19:59:21.261663Z",
          "shell.execute_reply": "2024-03-11T19:59:24.354307Z"
        },
        "trusted": true,
        "id": "4CHF4SaeI9gq",
        "colab": {
          "base_uri": "https://localhost:8080/"
        },
        "outputId": "b632ec42-9b8c-46d1-a9e2-925208f138ee"
      },
      "execution_count": 43,
      "outputs": [
        {
          "output_type": "stream",
          "name": "stdout",
          "text": [
            "Columns with more than 95% null values 135\n",
            "train data shape:\t (1526659, 428)\n",
            "test data shape:\t (10, 427)\n"
          ]
        }
      ]
    },
    {
      "cell_type": "markdown",
      "source": [
        "### Pandas Conversion"
      ],
      "metadata": {
        "id": "6rqevdLyI9gq"
      }
    },
    {
      "cell_type": "code",
      "source": [
        "df_train, cat_cols = to_pandas(df_train)\n",
        "df_test, cat_cols = to_pandas(df_test, cat_cols)"
      ],
      "metadata": {
        "execution": {
          "iopub.status.busy": "2024-03-11T19:59:24.356608Z",
          "iopub.execute_input": "2024-03-11T19:59:24.356927Z",
          "iopub.status.idle": "2024-03-11T19:59:45.600109Z",
          "shell.execute_reply.started": "2024-03-11T19:59:24.356901Z",
          "shell.execute_reply": "2024-03-11T19:59:45.59928Z"
        },
        "trusted": true,
        "id": "-GM95qlUI9gq"
      },
      "execution_count": 44,
      "outputs": []
    },
    {
      "cell_type": "markdown",
      "source": [
        "### My edit of feature engineering"
      ],
      "metadata": {
        "id": "jJbBPpCd8AHF"
      }
    },
    {
      "cell_type": "code",
      "source": [
        "def get_df_data_type(df):\n",
        "    \"\"\"\n",
        "    input - data frame\n",
        "    output- dictionary with data type as key and value as number of counts of that data type\n",
        "    \"\"\"\n",
        "    data_type = {}\n",
        "    for col in df.columns:\n",
        "        col_type = df[col].dtype.name\n",
        "        if col_type not in data_type.keys():\n",
        "            data_type[col_type] = 1\n",
        "        else:\n",
        "            data_type[col_type] += 1\n",
        "    return data_type\n",
        "\n",
        "\n",
        "col_data_type = get_df_data_type(df_train)\n",
        "print(col_data_type)\n",
        "col_data_type = get_df_data_type(df_test)\n",
        "print(col_data_type) # there is a miss match for cat type - need to be dealt below"
      ],
      "metadata": {
        "colab": {
          "base_uri": "https://localhost:8080/"
        },
        "id": "iaIgDmSq7_kw",
        "outputId": "039acaf5-4d42-4fbb-d7ba-c3429da39c5d"
      },
      "execution_count": 45,
      "outputs": [
        {
          "output_type": "stream",
          "name": "stdout",
          "text": [
            "{'int32': 3, 'int64': 1, 'int8': 2, 'float32': 56, 'float64': 308, 'category': 57, 'bool': 1}\n",
            "{'int32': 2, 'int8': 2, 'float32': 56, 'float64': 309, 'category': 57, 'bool': 1}\n"
          ]
        }
      ]
    },
    {
      "cell_type": "code",
      "source": [
        "# Now get list of feature which have got common description:\n",
        "def common_feature_removal(df):\n",
        "    \"\"\"\n",
        "    read base file of features\n",
        "\n",
        "    Step 2\n",
        "    From the description file of features:\n",
        "    There are some features having same description, those are filtered and only one is kept as feature,\n",
        "    rest are removed/dropped\n",
        "\n",
        "    \"\"\"\n",
        "\n",
        "    feature_file_path = \"/kaggle/input/home-credit-credit-risk-model-stability/feature_definitions.csv\"\n",
        "    df_feature = pd.read_csv(feature_file_path)\n",
        "    print(\"Features loaded\")\n",
        "    print(f\"Total number of features: {len(df_feature)}\")\n",
        "\n",
        "    #step 2\n",
        "    des_key = {}\n",
        "    feature_name, des  = df_feature[\"Variable\"].values, df_feature[\"Description\"]\n",
        "    for index in range(len(des)):\n",
        "        if des[index] in des_key.keys():\n",
        "            des_key[des[index]].append(feature_name[index])\n",
        "        else:\n",
        "            des_key[des[index]]=[feature_name[index]]\n",
        "\n",
        "    feature_to_remove = []\n",
        "    for key, value in des_key.items():\n",
        "        if len(value) >= 2:\n",
        "            for f in value[1:]:\n",
        "                feature_to_remove.append(f)\n",
        "\n",
        "    # now drop these features from the data_frame\n",
        "\n",
        "    for f in feature_to_remove:\n",
        "        try:\n",
        "            df = df.drop(f,axis=1)\n",
        "        except:\n",
        "            pass\n",
        "    print(\"Feature after remove\", len(df.columns))\n",
        "    return df\n",
        "\n",
        "X_train = common_feature_removal(df_train)\n",
        "\n",
        "# def get_num_group_feature(df):\n",
        "#     num_group = []\n",
        "#     for col in df.columns:\n",
        "#         if \"num_group1\" in col:\n",
        "#             num_group.append(col)\n",
        "#     return num_group"
      ],
      "metadata": {
        "colab": {
          "base_uri": "https://localhost:8080/"
        },
        "id": "kl8ttRIO-4QC",
        "outputId": "e3651169-086a-4b49-ab6f-87c5ec41b796"
      },
      "execution_count": 46,
      "outputs": [
        {
          "output_type": "stream",
          "name": "stdout",
          "text": [
            "Features loaded\n",
            "Total number of features: 465\n",
            "Feature after remove 413\n"
          ]
        }
      ]
    },
    {
      "cell_type": "code",
      "source": [
        "\n",
        "from sklearn.feature_selection import VarianceThreshold\n",
        "def get_numeric_columns(df):\n",
        "    numeric_columns = []\n",
        "    for col in df.columns:\n",
        "        col_type = df[col].dtype\n",
        "        col_type = df[col].dtype.name # in one of code I have used it,check and confirm\n",
        "        if str(col_type)[:3] in [\"int\", \"flo\"]:\n",
        "            numeric_columns.append(col)\n",
        "        else:\n",
        "            # print(col_type)\n",
        "            pass\n",
        "    return numeric_columns\n",
        "\n",
        "# Fit the VarianceThreshold transformer with the converted data frame\n",
        "def check_numeric_variance(X_train, threshold=0):\n",
        "    \"\"\"\n",
        "    based on a data set and a variance value filter columns\n",
        "    \"\"\"\n",
        "    sel = VarianceThreshold(threshold)\n",
        "    numeric_cols = get_numeric_columns(X_train)\n",
        "    sel.fit(X_train[numeric_cols])\n",
        "    sel_features = sel.get_feature_names_out()\n",
        "    non_selected_feature = [x for x in numeric_cols if x not in sel_features]\n",
        "    print(\"Not selected numric cols\", len(non_selected_feature))\n",
        "    # getting the unique count of not selected featues\n",
        "    unique_count = {}\n",
        "    for col in non_selected_feature:\n",
        "        unique_count[col] = len(X_train[col].unique())\n",
        "    # feature removal list\n",
        "    feature_removal = non_selected_feature\n",
        "    return feature_removal, unique_count\n",
        "\n",
        "numeric_feature_removal, numeric_feature_removal_unqiue_count = check_numeric_variance(X_train)\n"
      ],
      "metadata": {
        "colab": {
          "base_uri": "https://localhost:8080/"
        },
        "id": "exBlZNSJDDsf",
        "outputId": "f561a506-8266-4f80-a9fd-f71a8e36f7c3"
      },
      "execution_count": 47,
      "outputs": [
        {
          "output_type": "stream",
          "name": "stdout",
          "text": [
            "Not selected numric cols 11\n"
          ]
        }
      ]
    },
    {
      "cell_type": "code",
      "source": [
        "# train set\n",
        "# first get training data- remove numeric_cols\n",
        "X_train = X_train.drop(columns=numeric_feature_removal)\n",
        "y = X_train[\"target\"]\n",
        "X = X_train.drop(columns=[\"target\", \"case_id\", \"WEEK_NUM\"])\n",
        "weeks = X_train[\"WEEK_NUM\"]\n",
        "\n",
        "\n"
      ],
      "metadata": {
        "id": "aaoFOXQ5S5UQ"
      },
      "execution_count": 48,
      "outputs": []
    },
    {
      "cell_type": "code",
      "source": [
        "# test set\n",
        "# X_test = df_test.select([col for col in X.columns if col != \"target\"])\n",
        "X_test = df_test[X.columns.difference([\"target\"])]\n",
        "print(X.shape)\n",
        "print(X_test.shape)"
      ],
      "metadata": {
        "colab": {
          "base_uri": "https://localhost:8080/"
        },
        "id": "VjLgn499VJPY",
        "outputId": "48b2da3a-f613-4a9a-cb13-2c45dd8afbe9"
      },
      "execution_count": 49,
      "outputs": [
        {
          "output_type": "stream",
          "name": "stdout",
          "text": [
            "(1526659, 399)\n",
            "(10, 399)\n"
          ]
        }
      ]
    },
    {
      "cell_type": "markdown",
      "source": [
        "### Garbage Collection"
      ],
      "metadata": {
        "id": "bF24mWHsI9gr"
      }
    },
    {
      "cell_type": "code",
      "source": [
        "del data_store\n",
        "\n",
        "gc.collect()"
      ],
      "metadata": {
        "execution": {
          "iopub.status.busy": "2024-03-11T19:59:45.60134Z",
          "iopub.execute_input": "2024-03-11T19:59:45.601661Z",
          "iopub.status.idle": "2024-03-11T19:59:45.738468Z",
          "shell.execute_reply.started": "2024-03-11T19:59:45.601635Z",
          "shell.execute_reply": "2024-03-11T19:59:45.737384Z"
        },
        "trusted": true,
        "id": "aD_w-5hzI9gr",
        "colab": {
          "base_uri": "https://localhost:8080/"
        },
        "outputId": "ad790ea3-df7f-4060-a4ec-b45a0dae1e74"
      },
      "execution_count": 50,
      "outputs": [
        {
          "output_type": "execute_result",
          "data": {
            "text/plain": [
              "47"
            ]
          },
          "metadata": {},
          "execution_count": 50
        }
      ]
    },
    {
      "cell_type": "markdown",
      "source": [
        "### EDA"
      ],
      "metadata": {
        "id": "jhcjvMGpI9gr"
      }
    },
    {
      "cell_type": "code",
      "source": [
        "# print(\"Train is duplicated:\\t\", df_train[\"case_id\"].duplicated().any())\n",
        "# print(\"Train Week Range:\\t\", (df_train[\"WEEK_NUM\"].min(), df_train[\"WEEK_NUM\"].max()))\n",
        "\n",
        "# print()\n",
        "\n",
        "# print(\"Test is duplicated:\\t\", df_test[\"case_id\"].duplicated().any())\n",
        "# print(\"Test Week Range:\\t\", (df_test[\"WEEK_NUM\"].min(), df_test[\"WEEK_NUM\"].max()))"
      ],
      "metadata": {
        "execution": {
          "iopub.status.busy": "2024-03-11T19:59:45.739836Z",
          "iopub.execute_input": "2024-03-11T19:59:45.74016Z",
          "iopub.status.idle": "2024-03-11T19:59:45.776848Z",
          "shell.execute_reply.started": "2024-03-11T19:59:45.740136Z",
          "shell.execute_reply": "2024-03-11T19:59:45.775701Z"
        },
        "trusted": true,
        "id": "asQbBPwaI9gr"
      },
      "execution_count": 51,
      "outputs": []
    },
    {
      "cell_type": "code",
      "source": [
        "# sns.lineplot(\n",
        "#     data=df_train,\n",
        "#     x=\"WEEK_NUM\",\n",
        "#     y=\"target\",\n",
        "# )\n",
        "# plt.show()"
      ],
      "metadata": {
        "execution": {
          "iopub.status.busy": "2024-03-11T19:59:45.778242Z",
          "iopub.execute_input": "2024-03-11T19:59:45.778597Z",
          "iopub.status.idle": "2024-03-11T20:00:04.627702Z",
          "shell.execute_reply.started": "2024-03-11T19:59:45.778571Z",
          "shell.execute_reply": "2024-03-11T20:00:04.626634Z"
        },
        "trusted": true,
        "id": "yCCHYx_LI9gr"
      },
      "execution_count": 52,
      "outputs": []
    },
    {
      "cell_type": "markdown",
      "source": [
        "### Training"
      ],
      "metadata": {
        "id": "dUDzz_VII9gr"
      }
    },
    {
      "cell_type": "code",
      "source": [
        "import lightgbm as lgb\n",
        "import neptune\n",
        "import neptune.integrations.optuna as optuna_utils\n",
        "import optuna\n",
        "from sklearn.model_selection import train_test_split\n",
        "\n",
        "x_train, x_test, y_train, y_test = train_test_split(X,\n",
        "                                                    y,\n",
        "                                                    test_size=0.25,\n",
        "                                                    random_state=42)\n",
        "\n",
        "\n",
        "\n",
        "run = neptune.init_run(\n",
        "                capture_hardware_metrics=True,\n",
        "                name=\"base_line_2_lgbm\",\n",
        "                project=\"kaggle-housing/home-depot\",\n",
        "                api_token=\"eyJhcGlfYWRkcmVzcyI6Imh0dHBzOi8vYXBwLm5lcHR1bmUuYWkiLCJhcGlfdXJsIjoiaHR0cHM6Ly9hcHAubmVwdHVuZS5haSIsImFwaV9rZXkiOiJhM2JlMDQzZS1jMzkzLTQwZDktYmY3YS1iM2Q0ODNiMDg1YzMifQ==\",\n",
        ")\n",
        "\n",
        "\n",
        "from sklearn.metrics import roc_auc_score\n",
        "from sklearn.model_selection import train_test_split\n",
        "\n",
        "\n",
        "def objective(trial):\n",
        "\n",
        "    train_data = lgb.Dataset(x_train, label=y_train)\n",
        "    valid_data = lgb.Dataset(x_test, label=y_test, reference=train_data)\n",
        "\n",
        "    # param = {\n",
        "    #     \"verbose\": -1,\n",
        "    #     \"n_iter\": int(350/5),\n",
        "    #     \"objective\": \"binary\",\n",
        "    #     \"metric\": \"auc\",\n",
        "    #     \"learning_rate\": trial.suggest_float(\"learning_rate\", 1e-5, 1e-1, log=True),\n",
        "    #     \"num_leaves\": trial.suggest_int(\"num_leaves\", 2, 256),\n",
        "    #     \"feature_fraction\": trial.suggest_float(\"feature_fraction\", 0.2, 1.0, step=0.1),\n",
        "    #     \"bagging_fraction\": trial.suggest_float(\"bagging_fraction\", 0.2, 1.0, step=0.1),\n",
        "    #     \"min_child_samples\": trial.suggest_int(\"min_child_samples\", 3, 100),\n",
        "    # }\n",
        "    param = {\n",
        "        # \"device\": \"gpu\",\n",
        "        \"n_jobs\": -1,\n",
        "        \"n_iter\": 400,\n",
        "        \"verbosity\": -1,\n",
        "        \"objective\": \"binary\",\n",
        "        \"metric\":\"binary_logloss\",\"auc\"\n",
        "        \"boosting_type\": \"gbdt\",\n",
        "        # \"feature_name\": TRAIN_COLUMNS,\n",
        "        # \"categorical_feature\": list(CATEGORY_COLUMNS.keys()),\n",
        "        # \"max_bin\": 255,\n",
        "        \"colsample_bytree\": trial.suggest_float(\"colsample_bytree\", 0.6, 1.0),\n",
        "        \"colsample_bynode\": trial.suggest_float(\"colsample_bynode\", 0.6, 1.0),\n",
        "        \"n_estimators\": trial.suggest_int(\"n_estimators\", 50, 800),\n",
        "        \"max_depth\": trial.suggest_int(\"max_depth\", 3, 20),\n",
        "        \"learning_rate\": trial.suggest_float(\"learning_rate\", 0.01, 0.1, log=True),\n",
        "        \"lambda_l1\": trial.suggest_float(\"lambda_l1\", 1e-2, 10.0),\n",
        "        \"lambda_l2\": trial.suggest_float(\"lambda_l2\", 1e-2, 10.0),\n",
        "        \"num_leaves\": trial.suggest_int(\"num_leaves\", 16, 512),\n",
        "        \"min_data_in_leaf\": trial.suggest_int(\"min_data_in_leaf\", 4, 512),\n",
        "    }\n",
        "    gbm = lgb.train(param,\n",
        "                    train_data,\n",
        "                    valid_sets=[train_data,valid_data],\n",
        "                    valid_names=['train','valid'])\n",
        "    # print(gbm.best_iteration\n",
        "    preds = gbm.predict(x_test)\n",
        "    accuracy = roc_auc_score(y_test, preds)\n",
        "\n",
        "    return accuracy"
      ],
      "metadata": {
        "execution": {
          "iopub.status.busy": "2024-03-11T20:00:04.629033Z",
          "iopub.execute_input": "2024-03-11T20:00:04.629367Z",
          "iopub.status.idle": "2024-03-11T20:19:29.106294Z",
          "shell.execute_reply.started": "2024-03-11T20:00:04.629339Z",
          "shell.execute_reply": "2024-03-11T20:19:29.10518Z"
        },
        "trusted": true,
        "id": "1kP7l9R4I9gr",
        "colab": {
          "base_uri": "https://localhost:8080/"
        },
        "outputId": "61880dfd-5792-4f3d-9711-e875195c9671"
      },
      "execution_count": 53,
      "outputs": [
        {
          "output_type": "stream",
          "name": "stderr",
          "text": [
            "[neptune] [warning] NeptuneWarning: The following monitoring options are disabled by default in interactive sessions: 'capture_stdout', 'capture_stderr', 'capture_traceback', and 'capture_hardware_metrics'. To enable them, set each parameter to 'True' when initializing the run. The monitoring will continue until you call run.stop() or the kernel stops. Also note: Your source files can only be tracked if you pass the path(s) to the 'source_code' argument. For help, see the Neptune docs: https://docs.neptune.ai/logging/source_code/\n"
          ]
        },
        {
          "output_type": "stream",
          "name": "stdout",
          "text": [
            "[neptune] [info   ] Neptune initialized. Open in the app: https://app.neptune.ai/kaggle-housing/home-depot/e/HOM-19\n",
            "[neptune] [warning] Info (NVML): NVML Shared Library Not Found. GPU usage metrics may not be reported. For more information, see https://docs.neptune.ai/help/nvml_error/\n"
          ]
        }
      ]
    },
    {
      "cell_type": "code",
      "source": [
        "\n",
        "\n",
        "neptune_callback = optuna_utils.NeptuneCallback(\n",
        "                                                    run,\n",
        "                                                    plots_update_freq=2,  # create/log plots every 2 trials in the documentation its iteration\n",
        "                                                    log_plot_slice=False,  # do not create/log plot_slice\n",
        "                                                    log_plot_contour=False,  # do not create/log plot_contour\n",
        "                                                )\n",
        "\n",
        "study = optuna.create_study(direction=\"maximize\")\n",
        "study.optimize(objective, n_trials=50, callbacks=[neptune_callback],show_progress_bar=True)\n",
        "\n"
      ],
      "metadata": {
        "colab": {
          "base_uri": "https://localhost:8080/",
          "height": 1000,
          "referenced_widgets": [
            "b9a0d5b8c26b458184c8af255a0c32e3",
            "b825562938024050b77ac4a38d1097cc",
            "cb553cadbb2c41f1a390f918569a752d",
            "f406b23c228b4cc4ad6f2dd31ead55a7",
            "749a5839d90b4399aa6bf2f1f9db2f85",
            "aeb7b59aca5045ed953610bbfe77d15e",
            "1792e1a271c74aa6b906674787a2adb3",
            "c456e4356242481ab57c123684474153",
            "5195d18feb1443e1ada64bc88ea7386d",
            "6ec6becc7d754cb197be2373f7c3bcb8",
            "b391e99ac9ac4720ae98ebf57bd5544e"
          ]
        },
        "id": "KbpBn_oi28VE",
        "outputId": "4f7e4674-55d6-496c-d1bc-d575957e8f82"
      },
      "execution_count": 54,
      "outputs": [
        {
          "metadata": {
            "tags": null
          },
          "name": "stderr",
          "output_type": "stream",
          "text": [
            "[I 2024-04-29 12:54:46,001] A new study created in memory with name: no-name-aaf6acc1-7c30-4e04-90aa-50a858533408\n"
          ]
        },
        {
          "data": {
            "application/vnd.jupyter.widget-view+json": {
              "model_id": "b9a0d5b8c26b458184c8af255a0c32e3",
              "version_major": 2,
              "version_minor": 0
            },
            "text/plain": [
              "  0%|          | 0/50 [00:00<?, ?it/s]"
            ]
          },
          "metadata": {},
          "output_type": "display_data"
        },
        {
          "metadata": {
            "tags": null
          },
          "name": "stderr",
          "output_type": "stream",
          "text": [
            "/usr/local/lib/python3.10/dist-packages/lightgbm/engine.py:172: UserWarning: Found `n_iter` in params. Will use it instead of argument\n",
            "  _log_warning(f\"Found `{alias}` in params. Will use it instead of argument\")\n",
            "/usr/local/lib/python3.10/dist-packages/lightgbm/engine.py:172: UserWarning: Found `n_estimators` in params. Will use it instead of argument\n",
            "  _log_warning(f\"Found `{alias}` in params. Will use it instead of argument\")\n"
          ]
        },
        {
          "metadata": {
            "tags": null
          },
          "name": "stdout",
          "output_type": "stream",
          "text": [
            "[I 2024-04-29 12:58:28,834] Trial 0 finished with value: 0.8555328201980089 and parameters: {'colsample_bytree': 0.7597328361507293, 'colsample_bynode': 0.9594957372672832, 'n_estimators': 293, 'max_depth': 19, 'learning_rate': 0.034706746158588604, 'lambda_l1': 7.393947371811905, 'lambda_l2': 9.888266908009667, 'num_leaves': 227, 'min_data_in_leaf': 409}. Best is trial 0 with value: 0.8555328201980089.\n"
          ]
        },
        {
          "metadata": {
            "tags": null
          },
          "name": "stderr",
          "output_type": "stream",
          "text": [
            "/usr/local/lib/python3.10/dist-packages/lightgbm/engine.py:172: UserWarning:\n",
            "\n",
            "Found `n_iter` in params. Will use it instead of argument\n",
            "\n",
            "/usr/local/lib/python3.10/dist-packages/lightgbm/engine.py:172: UserWarning:\n",
            "\n",
            "Found `n_estimators` in params. Will use it instead of argument\n",
            "\n"
          ]
        },
        {
          "metadata": {
            "tags": null
          },
          "name": "stdout",
          "output_type": "stream",
          "text": [
            "[I 2024-04-29 12:59:46,170] Trial 1 finished with value: 0.8327099899433108 and parameters: {'colsample_bytree': 0.6530429759982963, 'colsample_bynode': 0.7501675384502204, 'n_estimators': 236, 'max_depth': 5, 'learning_rate': 0.01653371819750325, 'lambda_l1': 6.493351430440098, 'lambda_l2': 2.9903554516548216, 'num_leaves': 260, 'min_data_in_leaf': 279}. Best is trial 0 with value: 0.8555328201980089.\n"
          ]
        },
        {
          "metadata": {
            "tags": null
          },
          "name": "stderr",
          "output_type": "stream",
          "text": [
            "/usr/local/lib/python3.10/dist-packages/lightgbm/engine.py:172: UserWarning:\n",
            "\n",
            "Found `n_iter` in params. Will use it instead of argument\n",
            "\n",
            "/usr/local/lib/python3.10/dist-packages/lightgbm/engine.py:172: UserWarning:\n",
            "\n",
            "Found `n_estimators` in params. Will use it instead of argument\n",
            "\n"
          ]
        },
        {
          "metadata": {
            "tags": null
          },
          "name": "stdout",
          "output_type": "stream",
          "text": [
            "[I 2024-04-29 13:02:00,081] Trial 2 finished with value: 0.8514617578584264 and parameters: {'colsample_bytree': 0.7450182171119508, 'colsample_bynode': 0.9886435018499541, 'n_estimators': 601, 'max_depth': 4, 'learning_rate': 0.05937584441532906, 'lambda_l1': 5.32501798008773, 'lambda_l2': 2.5500932989371483, 'num_leaves': 261, 'min_data_in_leaf': 468}. Best is trial 0 with value: 0.8555328201980089.\n"
          ]
        },
        {
          "metadata": {
            "tags": null
          },
          "name": "stderr",
          "output_type": "stream",
          "text": [
            "/usr/local/lib/python3.10/dist-packages/lightgbm/engine.py:172: UserWarning:\n",
            "\n",
            "Found `n_iter` in params. Will use it instead of argument\n",
            "\n",
            "/usr/local/lib/python3.10/dist-packages/lightgbm/engine.py:172: UserWarning:\n",
            "\n",
            "Found `n_estimators` in params. Will use it instead of argument\n",
            "\n"
          ]
        },
        {
          "metadata": {
            "tags": null
          },
          "name": "stdout",
          "output_type": "stream",
          "text": [
            "[I 2024-04-29 13:09:12,105] Trial 3 finished with value: 0.8505694503812409 and parameters: {'colsample_bytree': 0.9210120568390735, 'colsample_bynode': 0.7865700531098639, 'n_estimators': 498, 'max_depth': 16, 'learning_rate': 0.01040098320553818, 'lambda_l1': 6.654078858690786, 'lambda_l2': 3.957069399002976, 'num_leaves': 232, 'min_data_in_leaf': 410}. Best is trial 0 with value: 0.8555328201980089.\n"
          ]
        },
        {
          "metadata": {
            "tags": null
          },
          "name": "stderr",
          "output_type": "stream",
          "text": [
            "/usr/local/lib/python3.10/dist-packages/lightgbm/engine.py:172: UserWarning:\n",
            "\n",
            "Found `n_iter` in params. Will use it instead of argument\n",
            "\n",
            "/usr/local/lib/python3.10/dist-packages/lightgbm/engine.py:172: UserWarning:\n",
            "\n",
            "Found `n_estimators` in params. Will use it instead of argument\n",
            "\n"
          ]
        },
        {
          "metadata": {
            "tags": null
          },
          "name": "stdout",
          "output_type": "stream",
          "text": [
            "[I 2024-04-29 13:13:40,264] Trial 4 finished with value: 0.8504266719454994 and parameters: {'colsample_bytree': 0.8342969678677293, 'colsample_bynode': 0.7419763068704832, 'n_estimators': 624, 'max_depth': 7, 'learning_rate': 0.013117260720973798, 'lambda_l1': 2.4637006059535107, 'lambda_l2': 1.4783094904082876, 'num_leaves': 407, 'min_data_in_leaf': 95}. Best is trial 0 with value: 0.8555328201980089.\n"
          ]
        },
        {
          "metadata": {
            "tags": null
          },
          "name": "stderr",
          "output_type": "stream",
          "text": [
            "/usr/local/lib/python3.10/dist-packages/lightgbm/engine.py:172: UserWarning:\n",
            "\n",
            "Found `n_iter` in params. Will use it instead of argument\n",
            "\n",
            "/usr/local/lib/python3.10/dist-packages/lightgbm/engine.py:172: UserWarning:\n",
            "\n",
            "Found `n_estimators` in params. Will use it instead of argument\n",
            "\n"
          ]
        },
        {
          "metadata": {
            "tags": null
          },
          "name": "stdout",
          "output_type": "stream",
          "text": [
            "[I 2024-04-29 13:14:41,624] Trial 5 finished with value: 0.8302841678708734 and parameters: {'colsample_bytree': 0.923486927378028, 'colsample_bynode': 0.770174713655889, 'n_estimators': 83, 'max_depth': 10, 'learning_rate': 0.02430815571529894, 'lambda_l1': 6.191660852210559, 'lambda_l2': 7.1762143368079085, 'num_leaves': 88, 'min_data_in_leaf': 374}. Best is trial 0 with value: 0.8555328201980089.\n"
          ]
        },
        {
          "metadata": {
            "tags": null
          },
          "name": "stderr",
          "output_type": "stream",
          "text": [
            "/usr/local/lib/python3.10/dist-packages/lightgbm/engine.py:172: UserWarning:\n",
            "\n",
            "Found `n_iter` in params. Will use it instead of argument\n",
            "\n",
            "/usr/local/lib/python3.10/dist-packages/lightgbm/engine.py:172: UserWarning:\n",
            "\n",
            "Found `n_estimators` in params. Will use it instead of argument\n",
            "\n"
          ]
        },
        {
          "metadata": {
            "tags": null
          },
          "name": "stdout",
          "output_type": "stream",
          "text": [
            "[I 2024-04-29 13:20:26,782] Trial 6 finished with value: 0.8576505834797015 and parameters: {'colsample_bytree': 0.6582735239495581, 'colsample_bynode': 0.9297838841622834, 'n_estimators': 487, 'max_depth': 20, 'learning_rate': 0.02650535784055859, 'lambda_l1': 3.2383018837344038, 'lambda_l2': 6.761562900882111, 'num_leaves': 271, 'min_data_in_leaf': 415}. Best is trial 6 with value: 0.8576505834797015.\n"
          ]
        },
        {
          "metadata": {
            "tags": null
          },
          "name": "stderr",
          "output_type": "stream",
          "text": [
            "/usr/local/lib/python3.10/dist-packages/lightgbm/engine.py:172: UserWarning:\n",
            "\n",
            "Found `n_iter` in params. Will use it instead of argument\n",
            "\n",
            "/usr/local/lib/python3.10/dist-packages/lightgbm/engine.py:172: UserWarning:\n",
            "\n",
            "Found `n_estimators` in params. Will use it instead of argument\n",
            "\n"
          ]
        },
        {
          "metadata": {
            "tags": null
          },
          "name": "stdout",
          "output_type": "stream",
          "text": [
            "[I 2024-04-29 13:28:33,176] Trial 7 finished with value: 0.8438115669398667 and parameters: {'colsample_bytree': 0.696071057838761, 'colsample_bynode': 0.9377239285537342, 'n_estimators': 710, 'max_depth': 15, 'learning_rate': 0.09222339029357571, 'lambda_l1': 8.350410021250003, 'lambda_l2': 3.955435455314236, 'num_leaves': 358, 'min_data_in_leaf': 160}. Best is trial 6 with value: 0.8576505834797015.\n"
          ]
        },
        {
          "metadata": {
            "tags": null
          },
          "name": "stderr",
          "output_type": "stream",
          "text": [
            "/usr/local/lib/python3.10/dist-packages/lightgbm/engine.py:172: UserWarning:\n",
            "\n",
            "Found `n_iter` in params. Will use it instead of argument\n",
            "\n",
            "/usr/local/lib/python3.10/dist-packages/lightgbm/engine.py:172: UserWarning:\n",
            "\n",
            "Found `n_estimators` in params. Will use it instead of argument\n",
            "\n"
          ]
        },
        {
          "metadata": {
            "tags": null
          },
          "name": "stdout",
          "output_type": "stream",
          "text": [
            "[I 2024-04-29 13:29:52,106] Trial 8 finished with value: 0.8489436303526796 and parameters: {'colsample_bytree': 0.9502545631353752, 'colsample_bynode': 0.8625558106296075, 'n_estimators': 161, 'max_depth': 7, 'learning_rate': 0.0695286146107947, 'lambda_l1': 0.7172984845996373, 'lambda_l2': 3.776741840925119, 'num_leaves': 428, 'min_data_in_leaf': 129}. Best is trial 6 with value: 0.8576505834797015.\n"
          ]
        },
        {
          "metadata": {
            "tags": null
          },
          "name": "stderr",
          "output_type": "stream",
          "text": [
            "/usr/local/lib/python3.10/dist-packages/lightgbm/engine.py:172: UserWarning:\n",
            "\n",
            "Found `n_iter` in params. Will use it instead of argument\n",
            "\n",
            "/usr/local/lib/python3.10/dist-packages/lightgbm/engine.py:172: UserWarning:\n",
            "\n",
            "Found `n_estimators` in params. Will use it instead of argument\n",
            "\n"
          ]
        },
        {
          "metadata": {
            "tags": null
          },
          "name": "stdout",
          "output_type": "stream",
          "text": [
            "[I 2024-04-29 13:34:48,836] Trial 9 finished with value: 0.8502728130200683 and parameters: {'colsample_bytree': 0.9938770768995193, 'colsample_bynode': 0.6845510872256663, 'n_estimators': 416, 'max_depth': 15, 'learning_rate': 0.06796860316433757, 'lambda_l1': 4.791799550119639, 'lambda_l2': 9.08367623129717, 'num_leaves': 262, 'min_data_in_leaf': 232}. Best is trial 6 with value: 0.8576505834797015.\n"
          ]
        },
        {
          "metadata": {
            "tags": null
          },
          "name": "stderr",
          "output_type": "stream",
          "text": [
            "/usr/local/lib/python3.10/dist-packages/lightgbm/engine.py:172: UserWarning:\n",
            "\n",
            "Found `n_iter` in params. Will use it instead of argument\n",
            "\n",
            "/usr/local/lib/python3.10/dist-packages/lightgbm/engine.py:172: UserWarning:\n",
            "\n",
            "Found `n_estimators` in params. Will use it instead of argument\n",
            "\n"
          ]
        },
        {
          "metadata": {
            "tags": null
          },
          "name": "stdout",
          "output_type": "stream",
          "text": [
            "[I 2024-04-29 13:41:13,774] Trial 10 finished with value: 0.8585346377707866 and parameters: {'colsample_bytree': 0.6075239541868741, 'colsample_bynode': 0.8795365487146235, 'n_estimators': 400, 'max_depth': 20, 'learning_rate': 0.03286802263020135, 'lambda_l1': 3.4920771240041732, 'lambda_l2': 6.640514887381657, 'num_leaves': 512, 'min_data_in_leaf': 4}. Best is trial 10 with value: 0.8585346377707866.\n"
          ]
        },
        {
          "metadata": {
            "tags": null
          },
          "name": "stderr",
          "output_type": "stream",
          "text": [
            "/usr/local/lib/python3.10/dist-packages/lightgbm/engine.py:172: UserWarning:\n",
            "\n",
            "Found `n_iter` in params. Will use it instead of argument\n",
            "\n",
            "/usr/local/lib/python3.10/dist-packages/lightgbm/engine.py:172: UserWarning:\n",
            "\n",
            "Found `n_estimators` in params. Will use it instead of argument\n",
            "\n"
          ]
        },
        {
          "metadata": {
            "tags": null
          },
          "name": "stdout",
          "output_type": "stream",
          "text": [
            "[I 2024-04-29 13:46:49,844] Trial 11 finished with value: 0.8580350540514904 and parameters: {'colsample_bytree': 0.6057417406282829, 'colsample_bynode': 0.8766108192682831, 'n_estimators': 356, 'max_depth': 19, 'learning_rate': 0.03390266428658939, 'lambda_l1': 3.58099134079294, 'lambda_l2': 6.530880292181258, 'num_leaves': 493, 'min_data_in_leaf': 17}. Best is trial 10 with value: 0.8585346377707866.\n"
          ]
        },
        {
          "metadata": {
            "tags": null
          },
          "name": "stderr",
          "output_type": "stream",
          "text": [
            "/usr/local/lib/python3.10/dist-packages/lightgbm/engine.py:172: UserWarning:\n",
            "\n",
            "Found `n_iter` in params. Will use it instead of argument\n",
            "\n",
            "/usr/local/lib/python3.10/dist-packages/lightgbm/engine.py:172: UserWarning:\n",
            "\n",
            "Found `n_estimators` in params. Will use it instead of argument\n",
            "\n"
          ]
        },
        {
          "metadata": {
            "tags": null
          },
          "name": "stdout",
          "output_type": "stream",
          "text": [
            "[I 2024-04-29 13:52:20,937] Trial 12 finished with value: 0.8576842982189823 and parameters: {'colsample_bytree': 0.6023044942663609, 'colsample_bynode': 0.865588945821273, 'n_estimators': 376, 'max_depth': 18, 'learning_rate': 0.03809234892653592, 'lambda_l1': 3.2603671381883634, 'lambda_l2': 6.136546056674245, 'num_leaves': 512, 'min_data_in_leaf': 4}. Best is trial 10 with value: 0.8585346377707866.\n"
          ]
        },
        {
          "metadata": {
            "tags": null
          },
          "name": "stderr",
          "output_type": "stream",
          "text": [
            "/usr/local/lib/python3.10/dist-packages/lightgbm/engine.py:172: UserWarning:\n",
            "\n",
            "Found `n_iter` in params. Will use it instead of argument\n",
            "\n",
            "/usr/local/lib/python3.10/dist-packages/lightgbm/engine.py:172: UserWarning:\n",
            "\n",
            "Found `n_estimators` in params. Will use it instead of argument\n",
            "\n"
          ]
        },
        {
          "metadata": {
            "tags": null
          },
          "name": "stdout",
          "output_type": "stream",
          "text": [
            "[I 2024-04-29 13:56:20,240] Trial 13 finished with value: 0.855892318194699 and parameters: {'colsample_bytree': 0.602576730498297, 'colsample_bynode': 0.8587117123579262, 'n_estimators': 322, 'max_depth': 13, 'learning_rate': 0.04927279532834927, 'lambda_l1': 1.0309018791903855, 'lambda_l2': 8.057129318012091, 'num_leaves': 509, 'min_data_in_leaf': 10}. Best is trial 10 with value: 0.8585346377707866.\n"
          ]
        },
        {
          "metadata": {
            "tags": null
          },
          "name": "stderr",
          "output_type": "stream",
          "text": [
            "/usr/local/lib/python3.10/dist-packages/lightgbm/engine.py:172: UserWarning:\n",
            "\n",
            "Found `n_iter` in params. Will use it instead of argument\n",
            "\n",
            "/usr/local/lib/python3.10/dist-packages/lightgbm/engine.py:172: UserWarning:\n",
            "\n",
            "Found `n_estimators` in params. Will use it instead of argument\n",
            "\n"
          ]
        },
        {
          "metadata": {
            "tags": null
          },
          "name": "stdout",
          "output_type": "stream",
          "text": [
            "[I 2024-04-29 14:04:57,339] Trial 14 finished with value: 0.856652132726802 and parameters: {'colsample_bytree': 0.8487569999606782, 'colsample_bynode': 0.6217545064942789, 'n_estimators': 514, 'max_depth': 17, 'learning_rate': 0.02024393116035213, 'lambda_l1': 2.4846219210877916, 'lambda_l2': 5.520939061139643, 'num_leaves': 439, 'min_data_in_leaf': 72}. Best is trial 10 with value: 0.8585346377707866.\n"
          ]
        },
        {
          "metadata": {
            "tags": null
          },
          "name": "stderr",
          "output_type": "stream",
          "text": [
            "/usr/local/lib/python3.10/dist-packages/lightgbm/engine.py:172: UserWarning:\n",
            "\n",
            "Found `n_iter` in params. Will use it instead of argument\n",
            "\n",
            "/usr/local/lib/python3.10/dist-packages/lightgbm/engine.py:172: UserWarning:\n",
            "\n",
            "Found `n_estimators` in params. Will use it instead of argument\n",
            "\n"
          ]
        },
        {
          "metadata": {
            "tags": null
          },
          "name": "stdout",
          "output_type": "stream",
          "text": [
            "[I 2024-04-29 14:06:13,206] Trial 15 finished with value: 0.847259678322495 and parameters: {'colsample_bytree': 0.7004536033533948, 'colsample_bynode': 0.8334360162917851, 'n_estimators': 231, 'max_depth': 20, 'learning_rate': 0.04452793968789169, 'lambda_l1': 4.2533073734618885, 'lambda_l2': 8.000289186103, 'num_leaves': 23, 'min_data_in_leaf': 193}. Best is trial 10 with value: 0.8585346377707866.\n"
          ]
        },
        {
          "metadata": {
            "tags": null
          },
          "name": "stderr",
          "output_type": "stream",
          "text": [
            "/usr/local/lib/python3.10/dist-packages/lightgbm/engine.py:172: UserWarning:\n",
            "\n",
            "Found `n_iter` in params. Will use it instead of argument\n",
            "\n",
            "/usr/local/lib/python3.10/dist-packages/lightgbm/engine.py:172: UserWarning:\n",
            "\n",
            "Found `n_estimators` in params. Will use it instead of argument\n",
            "\n"
          ]
        },
        {
          "metadata": {
            "tags": null
          },
          "name": "stdout",
          "output_type": "stream",
          "text": [
            "[I 2024-04-29 14:10:06,150] Trial 16 finished with value: 0.8562382861780333 and parameters: {'colsample_bytree': 0.6434682223914319, 'colsample_bynode': 0.9016265159857757, 'n_estimators': 369, 'max_depth': 12, 'learning_rate': 0.030984885529516285, 'lambda_l1': 9.423421803457948, 'lambda_l2': 0.15410066859597293, 'num_leaves': 346, 'min_data_in_leaf': 58}. Best is trial 10 with value: 0.8585346377707866.\n"
          ]
        },
        {
          "metadata": {
            "tags": null
          },
          "name": "stderr",
          "output_type": "stream",
          "text": [
            "/usr/local/lib/python3.10/dist-packages/lightgbm/engine.py:172: UserWarning:\n",
            "\n",
            "Found `n_iter` in params. Will use it instead of argument\n",
            "\n",
            "/usr/local/lib/python3.10/dist-packages/lightgbm/engine.py:172: UserWarning:\n",
            "\n",
            "Found `n_estimators` in params. Will use it instead of argument\n",
            "\n"
          ]
        },
        {
          "metadata": {
            "tags": null
          },
          "name": "stdout",
          "output_type": "stream",
          "text": [
            "[I 2024-04-29 14:16:25,163] Trial 17 finished with value: 0.8571256298553003 and parameters: {'colsample_bytree': 0.7203843956898534, 'colsample_bynode': 0.8164501834970808, 'n_estimators': 751, 'max_depth': 10, 'learning_rate': 0.021167449179046664, 'lambda_l1': 1.7001084834889149, 'lambda_l2': 5.009811053196629, 'num_leaves': 455, 'min_data_in_leaf': 275}. Best is trial 10 with value: 0.8585346377707866.\n"
          ]
        },
        {
          "metadata": {
            "tags": null
          },
          "name": "stderr",
          "output_type": "stream",
          "text": [
            "/usr/local/lib/python3.10/dist-packages/lightgbm/engine.py:172: UserWarning:\n",
            "\n",
            "Found `n_iter` in params. Will use it instead of argument\n",
            "\n",
            "/usr/local/lib/python3.10/dist-packages/lightgbm/engine.py:172: UserWarning:\n",
            "\n",
            "Found `n_estimators` in params. Will use it instead of argument\n",
            "\n"
          ]
        },
        {
          "metadata": {
            "tags": null
          },
          "name": "stdout",
          "output_type": "stream",
          "text": [
            "[I 2024-04-29 14:23:39,927] Trial 18 finished with value: 0.8567148663432848 and parameters: {'colsample_bytree': 0.8064905464326626, 'colsample_bynode': 0.9013490260431224, 'n_estimators': 586, 'max_depth': 14, 'learning_rate': 0.028489771659744142, 'lambda_l1': 4.147270556280402, 'lambda_l2': 7.81513280540158, 'num_leaves': 355, 'min_data_in_leaf': 33}. Best is trial 10 with value: 0.8585346377707866.\n"
          ]
        },
        {
          "metadata": {
            "tags": null
          },
          "name": "stderr",
          "output_type": "stream",
          "text": [
            "/usr/local/lib/python3.10/dist-packages/lightgbm/engine.py:172: UserWarning:\n",
            "\n",
            "Found `n_iter` in params. Will use it instead of argument\n",
            "\n",
            "/usr/local/lib/python3.10/dist-packages/lightgbm/engine.py:172: UserWarning:\n",
            "\n",
            "Found `n_estimators` in params. Will use it instead of argument\n",
            "\n"
          ]
        },
        {
          "metadata": {
            "tags": null
          },
          "name": "stdout",
          "output_type": "stream",
          "text": [
            "[I 2024-04-29 14:29:56,288] Trial 19 finished with value: 0.8559637693399995 and parameters: {'colsample_bytree': 0.6455837191402425, 'colsample_bynode': 0.9983186758072742, 'n_estimators': 455, 'max_depth': 18, 'learning_rate': 0.04253712872971473, 'lambda_l1': 0.03054741845431108, 'lambda_l2': 6.260405541454509, 'num_leaves': 474, 'min_data_in_leaf': 109}. Best is trial 10 with value: 0.8585346377707866.\n"
          ]
        },
        {
          "metadata": {
            "tags": null
          },
          "name": "stderr",
          "output_type": "stream",
          "text": [
            "/usr/local/lib/python3.10/dist-packages/lightgbm/engine.py:172: UserWarning:\n",
            "\n",
            "Found `n_iter` in params. Will use it instead of argument\n",
            "\n",
            "/usr/local/lib/python3.10/dist-packages/lightgbm/engine.py:172: UserWarning:\n",
            "\n",
            "Found `n_estimators` in params. Will use it instead of argument\n",
            "\n"
          ]
        },
        {
          "metadata": {
            "tags": null
          },
          "name": "stdout",
          "output_type": "stream",
          "text": [
            "[I 2024-04-29 14:30:48,732] Trial 20 finished with value: 0.8227362187999484 and parameters: {'colsample_bytree': 0.7680152126853818, 'colsample_bynode': 0.7012349633195031, 'n_estimators': 59, 'max_depth': 20, 'learning_rate': 0.016733445982109064, 'lambda_l1': 5.405903987333647, 'lambda_l2': 5.485982490393542, 'num_leaves': 176, 'min_data_in_leaf': 336}. Best is trial 10 with value: 0.8585346377707866.\n"
          ]
        },
        {
          "metadata": {
            "tags": null
          },
          "name": "stderr",
          "output_type": "stream",
          "text": [
            "/usr/local/lib/python3.10/dist-packages/lightgbm/engine.py:172: UserWarning:\n",
            "\n",
            "Found `n_iter` in params. Will use it instead of argument\n",
            "\n",
            "/usr/local/lib/python3.10/dist-packages/lightgbm/engine.py:172: UserWarning:\n",
            "\n",
            "Found `n_estimators` in params. Will use it instead of argument\n",
            "\n"
          ]
        },
        {
          "metadata": {
            "tags": null
          },
          "name": "stdout",
          "output_type": "stream",
          "text": [
            "[I 2024-04-29 14:36:25,531] Trial 21 finished with value: 0.85774104001761 and parameters: {'colsample_bytree': 0.609829406301993, 'colsample_bynode': 0.8765984394206168, 'n_estimators': 381, 'max_depth': 18, 'learning_rate': 0.03654887628955938, 'lambda_l1': 3.402269953432526, 'lambda_l2': 6.180397797845377, 'num_leaves': 506, 'min_data_in_leaf': 15}. Best is trial 10 with value: 0.8585346377707866.\n"
          ]
        },
        {
          "metadata": {
            "tags": null
          },
          "name": "stderr",
          "output_type": "stream",
          "text": [
            "/usr/local/lib/python3.10/dist-packages/lightgbm/engine.py:172: UserWarning:\n",
            "\n",
            "Found `n_iter` in params. Will use it instead of argument\n",
            "\n",
            "/usr/local/lib/python3.10/dist-packages/lightgbm/engine.py:172: UserWarning:\n",
            "\n",
            "Found `n_estimators` in params. Will use it instead of argument\n",
            "\n"
          ]
        },
        {
          "metadata": {
            "tags": null
          },
          "name": "stdout",
          "output_type": "stream",
          "text": [
            "[I 2024-04-29 14:40:33,013] Trial 22 finished with value: 0.8577762520898202 and parameters: {'colsample_bytree': 0.6019236496638138, 'colsample_bynode': 0.901519238783591, 'n_estimators': 303, 'max_depth': 17, 'learning_rate': 0.03530806731977994, 'lambda_l1': 3.421232097630713, 'lambda_l2': 7.119444351893509, 'num_leaves': 392, 'min_data_in_leaf': 51}. Best is trial 10 with value: 0.8585346377707866.\n"
          ]
        },
        {
          "metadata": {
            "tags": null
          },
          "name": "stderr",
          "output_type": "stream",
          "text": [
            "/usr/local/lib/python3.10/dist-packages/lightgbm/engine.py:172: UserWarning:\n",
            "\n",
            "Found `n_iter` in params. Will use it instead of argument\n",
            "\n",
            "/usr/local/lib/python3.10/dist-packages/lightgbm/engine.py:172: UserWarning:\n",
            "\n",
            "Found `n_estimators` in params. Will use it instead of argument\n",
            "\n"
          ]
        },
        {
          "metadata": {
            "tags": null
          },
          "name": "stdout",
          "output_type": "stream",
          "text": [
            "[I 2024-04-29 14:44:03,146] Trial 23 finished with value: 0.8568875046488063 and parameters: {'colsample_bytree': 0.6801761019482225, 'colsample_bynode': 0.9035542636926133, 'n_estimators': 274, 'max_depth': 17, 'learning_rate': 0.05261189845565072, 'lambda_l1': 2.441265265258637, 'lambda_l2': 8.724472685814662, 'num_leaves': 388, 'min_data_in_leaf': 68}. Best is trial 10 with value: 0.8585346377707866.\n"
          ]
        },
        {
          "metadata": {
            "tags": null
          },
          "name": "stderr",
          "output_type": "stream",
          "text": [
            "/usr/local/lib/python3.10/dist-packages/lightgbm/engine.py:172: UserWarning:\n",
            "\n",
            "Found `n_iter` in params. Will use it instead of argument\n",
            "\n",
            "/usr/local/lib/python3.10/dist-packages/lightgbm/engine.py:172: UserWarning:\n",
            "\n",
            "Found `n_estimators` in params. Will use it instead of argument\n",
            "\n"
          ]
        },
        {
          "metadata": {
            "tags": null
          },
          "name": "stdout",
          "output_type": "stream",
          "text": [
            "[I 2024-04-29 14:48:02,470] Trial 24 finished with value: 0.8568643596109252 and parameters: {'colsample_bytree': 0.6248818403136608, 'colsample_bynode': 0.8350029148179218, 'n_estimators': 341, 'max_depth': 16, 'learning_rate': 0.03011144271634548, 'lambda_l1': 4.130896475713365, 'lambda_l2': 7.221777292275055, 'num_leaves': 313, 'min_data_in_leaf': 157}. Best is trial 10 with value: 0.8585346377707866.\n"
          ]
        },
        {
          "metadata": {
            "tags": null
          },
          "name": "stderr",
          "output_type": "stream",
          "text": [
            "/usr/local/lib/python3.10/dist-packages/lightgbm/engine.py:172: UserWarning:\n",
            "\n",
            "Found `n_iter` in params. Will use it instead of argument\n",
            "\n",
            "/usr/local/lib/python3.10/dist-packages/lightgbm/engine.py:172: UserWarning:\n",
            "\n",
            "Found `n_estimators` in params. Will use it instead of argument\n",
            "\n"
          ]
        },
        {
          "metadata": {
            "tags": null
          },
          "name": "stdout",
          "output_type": "stream",
          "text": [
            "[I 2024-04-29 14:50:52,821] Trial 25 finished with value: 0.8543201131945906 and parameters: {'colsample_bytree': 0.6742522195685332, 'colsample_bynode': 0.9492400150159926, 'n_estimators': 181, 'max_depth': 19, 'learning_rate': 0.03978072645375916, 'lambda_l1': 1.8609837531265658, 'lambda_l2': 4.710729921565091, 'num_leaves': 470, 'min_data_in_leaf': 47}. Best is trial 10 with value: 0.8585346377707866.\n"
          ]
        },
        {
          "metadata": {
            "tags": null
          },
          "name": "stderr",
          "output_type": "stream",
          "text": [
            "/usr/local/lib/python3.10/dist-packages/lightgbm/engine.py:172: UserWarning:\n",
            "\n",
            "Found `n_iter` in params. Will use it instead of argument\n",
            "\n",
            "/usr/local/lib/python3.10/dist-packages/lightgbm/engine.py:172: UserWarning:\n",
            "\n",
            "Found `n_estimators` in params. Will use it instead of argument\n",
            "\n"
          ]
        },
        {
          "metadata": {
            "tags": null
          },
          "name": "stdout",
          "output_type": "stream",
          "text": [
            "[I 2024-04-29 14:52:49,830] Trial 26 finished with value: 0.8477378684879159 and parameters: {'colsample_bytree': 0.6293790252467228, 'colsample_bynode': 0.8099971134536068, 'n_estimators': 148, 'max_depth': 17, 'learning_rate': 0.023868598970071906, 'lambda_l1': 3.7410601198951214, 'lambda_l2': 8.883077537904208, 'num_leaves': 384, 'min_data_in_leaf': 129}. Best is trial 10 with value: 0.8585346377707866.\n"
          ]
        },
        {
          "metadata": {
            "tags": null
          },
          "name": "stderr",
          "output_type": "stream",
          "text": [
            "/usr/local/lib/python3.10/dist-packages/lightgbm/engine.py:172: UserWarning:\n",
            "\n",
            "Found `n_iter` in params. Will use it instead of argument\n",
            "\n",
            "/usr/local/lib/python3.10/dist-packages/lightgbm/engine.py:172: UserWarning:\n",
            "\n",
            "Found `n_estimators` in params. Will use it instead of argument\n",
            "\n"
          ]
        },
        {
          "metadata": {
            "tags": null
          },
          "name": "stdout",
          "output_type": "stream",
          "text": [
            "[I 2024-04-29 14:59:24,351] Trial 27 finished with value: 0.8579462067227072 and parameters: {'colsample_bytree': 0.7214813983545679, 'colsample_bynode': 0.9136629317540897, 'n_estimators': 437, 'max_depth': 19, 'learning_rate': 0.03164608845634665, 'lambda_l1': 4.996216865945958, 'lambda_l2': 7.022709132399531, 'num_leaves': 472, 'min_data_in_leaf': 87}. Best is trial 10 with value: 0.8585346377707866.\n"
          ]
        },
        {
          "metadata": {
            "tags": null
          },
          "name": "stderr",
          "output_type": "stream",
          "text": [
            "/usr/local/lib/python3.10/dist-packages/lightgbm/engine.py:172: UserWarning:\n",
            "\n",
            "Found `n_iter` in params. Will use it instead of argument\n",
            "\n",
            "/usr/local/lib/python3.10/dist-packages/lightgbm/engine.py:172: UserWarning:\n",
            "\n",
            "Found `n_estimators` in params. Will use it instead of argument\n",
            "\n"
          ]
        },
        {
          "metadata": {
            "tags": null
          },
          "name": "stdout",
          "output_type": "stream",
          "text": [
            "[I 2024-04-29 15:05:38,553] Trial 28 finished with value: 0.8570129994552991 and parameters: {'colsample_bytree': 0.7305674792418299, 'colsample_bynode': 0.9686316356446237, 'n_estimators': 428, 'max_depth': 19, 'learning_rate': 0.020842998206176393, 'lambda_l1': 4.903652110489336, 'lambda_l2': 5.607123216308691, 'num_leaves': 475, 'min_data_in_leaf': 222}. Best is trial 10 with value: 0.8585346377707866.\n"
          ]
        },
        {
          "metadata": {
            "tags": null
          },
          "name": "stderr",
          "output_type": "stream",
          "text": [
            "/usr/local/lib/python3.10/dist-packages/lightgbm/engine.py:172: UserWarning:\n",
            "\n",
            "Found `n_iter` in params. Will use it instead of argument\n",
            "\n",
            "/usr/local/lib/python3.10/dist-packages/lightgbm/engine.py:172: UserWarning:\n",
            "\n",
            "Found `n_estimators` in params. Will use it instead of argument\n",
            "\n"
          ]
        },
        {
          "metadata": {
            "tags": null
          },
          "name": "stdout",
          "output_type": "stream",
          "text": [
            "[I 2024-04-29 15:13:16,329] Trial 29 finished with value: 0.8575203462525512 and parameters: {'colsample_bytree': 0.7693973810391599, 'colsample_bynode': 0.9194601666140789, 'n_estimators': 527, 'max_depth': 19, 'learning_rate': 0.031775841348098036, 'lambda_l1': 7.375489794637792, 'lambda_l2': 9.536448392769131, 'num_leaves': 431, 'min_data_in_leaf': 91}. Best is trial 10 with value: 0.8585346377707866.\n"
          ]
        },
        {
          "metadata": {
            "tags": null
          },
          "name": "stderr",
          "output_type": "stream",
          "text": [
            "/usr/local/lib/python3.10/dist-packages/lightgbm/engine.py:172: UserWarning:\n",
            "\n",
            "Found `n_iter` in params. Will use it instead of argument\n",
            "\n",
            "/usr/local/lib/python3.10/dist-packages/lightgbm/engine.py:172: UserWarning:\n",
            "\n",
            "Found `n_estimators` in params. Will use it instead of argument\n",
            "\n"
          ]
        },
        {
          "metadata": {
            "tags": null
          },
          "name": "stdout",
          "output_type": "stream",
          "text": [
            "[I 2024-04-29 15:19:26,412] Trial 30 finished with value: 0.8551059560062619 and parameters: {'colsample_bytree': 0.7960991466967748, 'colsample_bynode': 0.9714451714680147, 'n_estimators': 558, 'max_depth': 14, 'learning_rate': 0.01713009077276724, 'lambda_l1': 5.798119197967655, 'lambda_l2': 9.919805734161132, 'num_leaves': 184, 'min_data_in_leaf': 160}. Best is trial 10 with value: 0.8585346377707866.\n"
          ]
        },
        {
          "metadata": {
            "tags": null
          },
          "name": "stderr",
          "output_type": "stream",
          "text": [
            "/usr/local/lib/python3.10/dist-packages/lightgbm/engine.py:172: UserWarning:\n",
            "\n",
            "Found `n_iter` in params. Will use it instead of argument\n",
            "\n",
            "/usr/local/lib/python3.10/dist-packages/lightgbm/engine.py:172: UserWarning:\n",
            "\n",
            "Found `n_estimators` in params. Will use it instead of argument\n",
            "\n"
          ]
        },
        {
          "metadata": {
            "tags": null
          },
          "name": "stdout",
          "output_type": "stream",
          "text": [
            "[I 2024-04-29 15:23:46,684] Trial 31 finished with value: 0.857108182140964 and parameters: {'colsample_bytree': 0.6290000125110958, 'colsample_bynode': 0.8774718151844355, 'n_estimators': 287, 'max_depth': 20, 'learning_rate': 0.033239539573535065, 'lambda_l1': 2.999809052518411, 'lambda_l2': 7.001524629519593, 'num_leaves': 485, 'min_data_in_leaf': 44}. Best is trial 10 with value: 0.8585346377707866.\n"
          ]
        },
        {
          "metadata": {
            "tags": null
          },
          "name": "stderr",
          "output_type": "stream",
          "text": [
            "/usr/local/lib/python3.10/dist-packages/lightgbm/engine.py:172: UserWarning:\n",
            "\n",
            "Found `n_iter` in params. Will use it instead of argument\n",
            "\n",
            "/usr/local/lib/python3.10/dist-packages/lightgbm/engine.py:172: UserWarning:\n",
            "\n",
            "Found `n_estimators` in params. Will use it instead of argument\n",
            "\n"
          ]
        },
        {
          "metadata": {
            "tags": null
          },
          "name": "stdout",
          "output_type": "stream",
          "text": [
            "[I 2024-04-29 15:27:18,011] Trial 32 finished with value: 0.8565402608248098 and parameters: {'colsample_bytree': 0.6794844532289277, 'colsample_bynode': 0.8993698210243284, 'n_estimators': 250, 'max_depth': 18, 'learning_rate': 0.035694713606193, 'lambda_l1': 4.464284320651091, 'lambda_l2': 7.801854783064038, 'num_leaves': 415, 'min_data_in_leaf': 44}. Best is trial 10 with value: 0.8585346377707866.\n"
          ]
        },
        {
          "metadata": {
            "tags": null
          },
          "name": "stderr",
          "output_type": "stream",
          "text": [
            "/usr/local/lib/python3.10/dist-packages/lightgbm/engine.py:172: UserWarning:\n",
            "\n",
            "Found `n_iter` in params. Will use it instead of argument\n",
            "\n",
            "/usr/local/lib/python3.10/dist-packages/lightgbm/engine.py:172: UserWarning:\n",
            "\n",
            "Found `n_estimators` in params. Will use it instead of argument\n",
            "\n"
          ]
        },
        {
          "metadata": {
            "tags": null
          },
          "name": "stdout",
          "output_type": "stream",
          "text": [
            "[I 2024-04-29 15:32:53,485] Trial 33 finished with value: 0.8565690315402674 and parameters: {'colsample_bytree': 0.6603257737916131, 'colsample_bynode': 0.8464816867742453, 'n_estimators': 428, 'max_depth': 17, 'learning_rate': 0.050862409952760285, 'lambda_l1': 5.384422732963426, 'lambda_l2': 6.429326434292724, 'num_leaves': 443, 'min_data_in_leaf': 76}. Best is trial 10 with value: 0.8585346377707866.\n"
          ]
        },
        {
          "metadata": {
            "tags": null
          },
          "name": "stderr",
          "output_type": "stream",
          "text": [
            "/usr/local/lib/python3.10/dist-packages/lightgbm/engine.py:172: UserWarning:\n",
            "\n",
            "Found `n_iter` in params. Will use it instead of argument\n",
            "\n",
            "/usr/local/lib/python3.10/dist-packages/lightgbm/engine.py:172: UserWarning:\n",
            "\n",
            "Found `n_estimators` in params. Will use it instead of argument\n",
            "\n"
          ]
        },
        {
          "metadata": {
            "tags": null
          },
          "name": "stdout",
          "output_type": "stream",
          "text": [
            "[I 2024-04-29 15:36:46,438] Trial 34 finished with value: 0.8559689255895769 and parameters: {'colsample_bytree': 0.7029142385122878, 'colsample_bynode': 0.9546907134545348, 'n_estimators': 311, 'max_depth': 19, 'learning_rate': 0.027382746947462577, 'lambda_l1': 6.93573439296277, 'lambda_l2': 7.431617999922091, 'num_leaves': 310, 'min_data_in_leaf': 503}. Best is trial 10 with value: 0.8585346377707866.\n"
          ]
        },
        {
          "metadata": {
            "tags": null
          },
          "name": "stderr",
          "output_type": "stream",
          "text": [
            "/usr/local/lib/python3.10/dist-packages/lightgbm/engine.py:172: UserWarning:\n",
            "\n",
            "Found `n_iter` in params. Will use it instead of argument\n",
            "\n",
            "/usr/local/lib/python3.10/dist-packages/lightgbm/engine.py:172: UserWarning:\n",
            "\n",
            "Found `n_estimators` in params. Will use it instead of argument\n",
            "\n"
          ]
        },
        {
          "metadata": {
            "tags": null
          },
          "name": "stdout",
          "output_type": "stream",
          "text": [
            "[I 2024-04-29 15:40:04,420] Trial 35 finished with value: 0.8559026892310958 and parameters: {'colsample_bytree': 0.6192169987889176, 'colsample_bynode': 0.8847162986489681, 'n_estimators': 223, 'max_depth': 16, 'learning_rate': 0.04581763770139438, 'lambda_l1': 3.722643466842297, 'lambda_l2': 4.895246905436602, 'num_leaves': 387, 'min_data_in_leaf': 114}. Best is trial 10 with value: 0.8585346377707866.\n"
          ]
        },
        {
          "metadata": {
            "tags": null
          },
          "name": "stderr",
          "output_type": "stream",
          "text": [
            "/usr/local/lib/python3.10/dist-packages/lightgbm/engine.py:172: UserWarning:\n",
            "\n",
            "Found `n_iter` in params. Will use it instead of argument\n",
            "\n",
            "/usr/local/lib/python3.10/dist-packages/lightgbm/engine.py:172: UserWarning:\n",
            "\n",
            "Found `n_estimators` in params. Will use it instead of argument\n",
            "\n"
          ]
        },
        {
          "metadata": {
            "tags": null
          },
          "name": "stdout",
          "output_type": "stream",
          "text": [
            "[I 2024-04-29 15:48:06,955] Trial 36 finished with value: 0.8490766847128561 and parameters: {'colsample_bytree': 0.874712973037489, 'colsample_bynode': 0.9250927818377317, 'n_estimators': 465, 'max_depth': 20, 'learning_rate': 0.06000567920511957, 'lambda_l1': 2.6980085578811868, 'lambda_l2': 8.36610441944343, 'num_leaves': 482, 'min_data_in_leaf': 27}. Best is trial 10 with value: 0.8585346377707866.\n"
          ]
        },
        {
          "metadata": {
            "tags": null
          },
          "name": "stderr",
          "output_type": "stream",
          "text": [
            "/usr/local/lib/python3.10/dist-packages/lightgbm/engine.py:172: UserWarning:\n",
            "\n",
            "Found `n_iter` in params. Will use it instead of argument\n",
            "\n",
            "/usr/local/lib/python3.10/dist-packages/lightgbm/engine.py:172: UserWarning:\n",
            "\n",
            "Found `n_estimators` in params. Will use it instead of argument\n",
            "\n"
          ]
        },
        {
          "metadata": {
            "tags": null
          },
          "name": "stdout",
          "output_type": "stream",
          "text": [
            "[I 2024-04-29 15:56:26,381] Trial 37 finished with value: 0.8581361465124663 and parameters: {'colsample_bytree': 0.747089866823185, 'colsample_bynode': 0.7810531768279781, 'n_estimators': 666, 'max_depth': 15, 'learning_rate': 0.023351692985449455, 'lambda_l1': 1.7406594825846362, 'lambda_l2': 6.832286171978259, 'num_leaves': 452, 'min_data_in_leaf': 326}. Best is trial 10 with value: 0.8585346377707866.\n"
          ]
        },
        {
          "metadata": {
            "tags": null
          },
          "name": "stderr",
          "output_type": "stream",
          "text": [
            "/usr/local/lib/python3.10/dist-packages/lightgbm/engine.py:172: UserWarning:\n",
            "\n",
            "Found `n_iter` in params. Will use it instead of argument\n",
            "\n",
            "/usr/local/lib/python3.10/dist-packages/lightgbm/engine.py:172: UserWarning:\n",
            "\n",
            "Found `n_estimators` in params. Will use it instead of argument\n",
            "\n"
          ]
        },
        {
          "metadata": {
            "tags": null
          },
          "name": "stdout",
          "output_type": "stream",
          "text": [
            "[I 2024-04-29 15:58:07,821] Trial 38 finished with value: 0.842687741619134 and parameters: {'colsample_bytree': 0.7459782517285439, 'colsample_bynode': 0.7884306729428542, 'n_estimators': 662, 'max_depth': 3, 'learning_rate': 0.024131375443985352, 'lambda_l1': 1.864239998765793, 'lambda_l2': 6.726707840208529, 'num_leaves': 464, 'min_data_in_leaf': 323}. Best is trial 10 with value: 0.8585346377707866.\n"
          ]
        },
        {
          "metadata": {
            "tags": null
          },
          "name": "stderr",
          "output_type": "stream",
          "text": [
            "/usr/local/lib/python3.10/dist-packages/lightgbm/engine.py:172: UserWarning:\n",
            "\n",
            "Found `n_iter` in params. Will use it instead of argument\n",
            "\n",
            "/usr/local/lib/python3.10/dist-packages/lightgbm/engine.py:172: UserWarning:\n",
            "\n",
            "Found `n_estimators` in params. Will use it instead of argument\n",
            "\n"
          ]
        },
        {
          "metadata": {
            "tags": null
          },
          "name": "stdout",
          "output_type": "stream",
          "text": [
            "[I 2024-04-29 16:05:24,150] Trial 39 finished with value: 0.8565133967509511 and parameters: {'colsample_bytree': 0.7921748065682873, 'colsample_bynode': 0.740350526513668, 'n_estimators': 664, 'max_depth': 11, 'learning_rate': 0.01435432329431437, 'lambda_l1': 1.1528629918509323, 'lambda_l2': 2.629917551580014, 'num_leaves': 492, 'min_data_in_leaf': 313}. Best is trial 10 with value: 0.8585346377707866.\n"
          ]
        },
        {
          "metadata": {
            "tags": null
          },
          "name": "stderr",
          "output_type": "stream",
          "text": [
            "/usr/local/lib/python3.10/dist-packages/lightgbm/engine.py:172: UserWarning:\n",
            "\n",
            "Found `n_iter` in params. Will use it instead of argument\n",
            "\n",
            "/usr/local/lib/python3.10/dist-packages/lightgbm/engine.py:172: UserWarning:\n",
            "\n",
            "Found `n_estimators` in params. Will use it instead of argument\n",
            "\n"
          ]
        },
        {
          "metadata": {
            "tags": null
          },
          "name": "stdout",
          "output_type": "stream",
          "text": [
            "[I 2024-04-29 16:08:32,090] Trial 40 finished with value: 0.8488392368658774 and parameters: {'colsample_bytree': 0.7329878910172583, 'colsample_bynode': 0.764608841352004, 'n_estimators': 553, 'max_depth': 7, 'learning_rate': 0.012579521644644253, 'lambda_l1': 5.998581227301668, 'lambda_l2': 5.610363843092271, 'num_leaves': 418, 'min_data_in_leaf': 381}. Best is trial 10 with value: 0.8585346377707866.\n"
          ]
        },
        {
          "metadata": {
            "tags": null
          },
          "name": "stderr",
          "output_type": "stream",
          "text": [
            "/usr/local/lib/python3.10/dist-packages/lightgbm/engine.py:172: UserWarning:\n",
            "\n",
            "Found `n_iter` in params. Will use it instead of argument\n",
            "\n",
            "/usr/local/lib/python3.10/dist-packages/lightgbm/engine.py:172: UserWarning:\n",
            "\n",
            "Found `n_estimators` in params. Will use it instead of argument\n",
            "\n"
          ]
        },
        {
          "metadata": {
            "tags": null
          },
          "name": "stdout",
          "output_type": "stream",
          "text": [
            "[I 2024-04-29 16:16:13,122] Trial 41 finished with value: 0.8584479230961202 and parameters: {'colsample_bytree': 0.6425780402314221, 'colsample_bynode': 0.8197056680025561, 'n_estimators': 769, 'max_depth': 15, 'learning_rate': 0.026361763060103894, 'lambda_l1': 3.7406735321645854, 'lambda_l2': 7.407227054207027, 'num_leaves': 446, 'min_data_in_leaf': 440}. Best is trial 10 with value: 0.8585346377707866.\n"
          ]
        },
        {
          "metadata": {
            "tags": null
          },
          "name": "stderr",
          "output_type": "stream",
          "text": [
            "/usr/local/lib/python3.10/dist-packages/lightgbm/engine.py:172: UserWarning:\n",
            "\n",
            "Found `n_iter` in params. Will use it instead of argument\n",
            "\n",
            "/usr/local/lib/python3.10/dist-packages/lightgbm/engine.py:172: UserWarning:\n",
            "\n",
            "Found `n_estimators` in params. Will use it instead of argument\n",
            "\n"
          ]
        },
        {
          "metadata": {
            "tags": null
          },
          "name": "stdout",
          "output_type": "stream",
          "text": [
            "[I 2024-04-29 16:24:30,587] Trial 42 finished with value: 0.8587834400346265 and parameters: {'colsample_bytree': 0.6562780095244386, 'colsample_bynode': 0.8194971055626057, 'n_estimators': 797, 'max_depth': 15, 'learning_rate': 0.025261652096757105, 'lambda_l1': 4.814664104001764, 'lambda_l2': 6.6341246279833115, 'num_leaves': 457, 'min_data_in_leaf': 433}. Best is trial 42 with value: 0.8587834400346265.\n"
          ]
        },
        {
          "metadata": {
            "tags": null
          },
          "name": "stderr",
          "output_type": "stream",
          "text": [
            "/usr/local/lib/python3.10/dist-packages/lightgbm/engine.py:172: UserWarning:\n",
            "\n",
            "Found `n_iter` in params. Will use it instead of argument\n",
            "\n",
            "/usr/local/lib/python3.10/dist-packages/lightgbm/engine.py:172: UserWarning:\n",
            "\n",
            "Found `n_estimators` in params. Will use it instead of argument\n",
            "\n"
          ]
        },
        {
          "output_type": "stream",
          "name": "stdout",
          "text": [
            "[I 2024-04-29 16:32:48,764] Trial 43 finished with value: 0.8594579931525512 and parameters: {'colsample_bytree': 0.6486586947119826, 'colsample_bynode': 0.792445030538546, 'n_estimators': 789, 'max_depth': 15, 'learning_rate': 0.019031011312120868, 'lambda_l1': 2.07724257197326, 'lambda_l2': 7.596840201631312, 'num_leaves': 446, 'min_data_in_leaf': 437}. Best is trial 43 with value: 0.8594579931525512.\n"
          ]
        },
        {
          "output_type": "stream",
          "name": "stderr",
          "text": [
            "/usr/local/lib/python3.10/dist-packages/lightgbm/engine.py:172: UserWarning:\n",
            "\n",
            "Found `n_iter` in params. Will use it instead of argument\n",
            "\n",
            "/usr/local/lib/python3.10/dist-packages/lightgbm/engine.py:172: UserWarning:\n",
            "\n",
            "Found `n_estimators` in params. Will use it instead of argument\n",
            "\n"
          ]
        },
        {
          "output_type": "stream",
          "name": "stdout",
          "text": [
            "[I 2024-04-29 16:40:37,978] Trial 44 finished with value: 0.8588019807454982 and parameters: {'colsample_bytree': 0.6598386476821463, 'colsample_bynode': 0.7932849983169149, 'n_estimators': 795, 'max_depth': 14, 'learning_rate': 0.018992050810221657, 'lambda_l1': 2.1123127654471188, 'lambda_l2': 7.606854127435539, 'num_leaves': 452, 'min_data_in_leaf': 448}. Best is trial 43 with value: 0.8594579931525512.\n"
          ]
        },
        {
          "output_type": "stream",
          "name": "stderr",
          "text": [
            "/usr/local/lib/python3.10/dist-packages/lightgbm/engine.py:172: UserWarning:\n",
            "\n",
            "Found `n_iter` in params. Will use it instead of argument\n",
            "\n",
            "/usr/local/lib/python3.10/dist-packages/lightgbm/engine.py:172: UserWarning:\n",
            "\n",
            "Found `n_estimators` in params. Will use it instead of argument\n",
            "\n"
          ]
        },
        {
          "output_type": "stream",
          "name": "stdout",
          "text": [
            "[I 2024-04-29 16:48:08,406] Trial 45 finished with value: 0.8587878054664045 and parameters: {'colsample_bytree': 0.6651152045762159, 'colsample_bynode': 0.748983243698053, 'n_estimators': 796, 'max_depth': 13, 'learning_rate': 0.019042898347643195, 'lambda_l1': 2.8301631715078086, 'lambda_l2': 7.584279028835512, 'num_leaves': 407, 'min_data_in_leaf': 436}. Best is trial 43 with value: 0.8594579931525512.\n"
          ]
        },
        {
          "output_type": "stream",
          "name": "stderr",
          "text": [
            "/usr/local/lib/python3.10/dist-packages/lightgbm/engine.py:172: UserWarning:\n",
            "\n",
            "Found `n_iter` in params. Will use it instead of argument\n",
            "\n",
            "/usr/local/lib/python3.10/dist-packages/lightgbm/engine.py:172: UserWarning:\n",
            "\n",
            "Found `n_estimators` in params. Will use it instead of argument\n",
            "\n"
          ]
        },
        {
          "output_type": "stream",
          "name": "stdout",
          "text": [
            "[I 2024-04-29 16:54:51,249] Trial 46 finished with value: 0.8585563627720194 and parameters: {'colsample_bytree': 0.663781134878445, 'colsample_bynode': 0.72465355510468, 'n_estimators': 787, 'max_depth': 12, 'learning_rate': 0.01876569418731358, 'lambda_l1': 2.245024839513372, 'lambda_l2': 8.228701040660752, 'num_leaves': 410, 'min_data_in_leaf': 474}. Best is trial 43 with value: 0.8594579931525512.\n"
          ]
        },
        {
          "output_type": "stream",
          "name": "stderr",
          "text": [
            "/usr/local/lib/python3.10/dist-packages/lightgbm/engine.py:172: UserWarning:\n",
            "\n",
            "Found `n_iter` in params. Will use it instead of argument\n",
            "\n",
            "/usr/local/lib/python3.10/dist-packages/lightgbm/engine.py:172: UserWarning:\n",
            "\n",
            "Found `n_estimators` in params. Will use it instead of argument\n",
            "\n"
          ]
        },
        {
          "output_type": "stream",
          "name": "stdout",
          "text": [
            "[I 2024-04-29 17:01:37,927] Trial 47 finished with value: 0.8585061943214547 and parameters: {'colsample_bytree': 0.665060460926714, 'colsample_bynode': 0.7114454455815685, 'n_estimators': 796, 'max_depth': 12, 'learning_rate': 0.01892210481879811, 'lambda_l1': 0.560659998928166, 'lambda_l2': 8.473807276924727, 'num_leaves': 328, 'min_data_in_leaf': 469}. Best is trial 43 with value: 0.8594579931525512.\n"
          ]
        },
        {
          "output_type": "stream",
          "name": "stderr",
          "text": [
            "/usr/local/lib/python3.10/dist-packages/lightgbm/engine.py:172: UserWarning:\n",
            "\n",
            "Found `n_iter` in params. Will use it instead of argument\n",
            "\n",
            "/usr/local/lib/python3.10/dist-packages/lightgbm/engine.py:172: UserWarning:\n",
            "\n",
            "Found `n_estimators` in params. Will use it instead of argument\n",
            "\n"
          ]
        },
        {
          "output_type": "stream",
          "name": "stdout",
          "text": [
            "[I 2024-04-29 17:09:17,287] Trial 48 finished with value: 0.8576270137642998 and parameters: {'colsample_bytree': 0.6972761867871807, 'colsample_bynode': 0.7344923643488029, 'n_estimators': 721, 'max_depth': 13, 'learning_rate': 0.0141189221415406, 'lambda_l1': 1.205021375584628, 'lambda_l2': 9.218230616206075, 'num_leaves': 405, 'min_data_in_leaf': 440}. Best is trial 43 with value: 0.8594579931525512.\n"
          ]
        },
        {
          "output_type": "stream",
          "name": "stderr",
          "text": [
            "/usr/local/lib/python3.10/dist-packages/lightgbm/engine.py:172: UserWarning:\n",
            "\n",
            "Found `n_iter` in params. Will use it instead of argument\n",
            "\n",
            "/usr/local/lib/python3.10/dist-packages/lightgbm/engine.py:172: UserWarning:\n",
            "\n",
            "Found `n_estimators` in params. Will use it instead of argument\n",
            "\n"
          ]
        },
        {
          "output_type": "stream",
          "name": "stdout",
          "text": [
            "[I 2024-04-29 17:14:31,974] Trial 49 finished with value: 0.8535827817097044 and parameters: {'colsample_bytree': 0.6886968643971931, 'colsample_bynode': 0.6663435449730664, 'n_estimators': 721, 'max_depth': 9, 'learning_rate': 0.010578137921350348, 'lambda_l1': 2.143607403034903, 'lambda_l2': 8.351390546726725, 'num_leaves': 367, 'min_data_in_leaf': 502}. Best is trial 43 with value: 0.8594579931525512.\n"
          ]
        }
      ]
    },
    {
      "cell_type": "code",
      "source": [
        "# Now getting the best best parameters\n",
        "best_params = study.best_params\n",
        "best_params.update({\n",
        "                    \"n_jobs\": -1,\n",
        "                    \"n_iter\": 100\n",
        "                })\n",
        "\n",
        "# Now model training\n",
        "model = lgb.LGBMClassifier(**best_params)\n",
        "model.fit(x_train, y_train)\n",
        "\n",
        "# NOW roc score\n",
        "y_pred_prob = model.predict_proba(x_test)\n",
        "y_pred = model.predict(x_test)\n",
        "\n",
        "from sklearn.metrics import roc_auc_score\n",
        "print(roc_auc_score(y_test, y_pred))\n",
        "run[\"test_roc\"] = roc_auc_score(y_test, y_pred)\n",
        "# run.stop()"
      ],
      "metadata": {
        "colab": {
          "base_uri": "https://localhost:8080/"
        },
        "id": "u3eH7vLN3RCq",
        "outputId": "e28fd922-64ac-4510-f623-e780eb9ecdfa"
      },
      "execution_count": 55,
      "outputs": [
        {
          "output_type": "stream",
          "name": "stderr",
          "text": [
            "/usr/local/lib/python3.10/dist-packages/lightgbm/engine.py:172: UserWarning:\n",
            "\n",
            "Found `n_iter` in params. Will use it instead of argument\n",
            "\n"
          ]
        },
        {
          "output_type": "stream",
          "name": "stdout",
          "text": [
            "[LightGBM] [Warning] min_data_in_leaf is set=437, min_child_samples=20 will be ignored. Current value: min_data_in_leaf=437\n",
            "[LightGBM] [Warning] lambda_l2 is set=7.596840201631312, reg_lambda=0.0 will be ignored. Current value: lambda_l2=7.596840201631312\n",
            "[LightGBM] [Warning] lambda_l1 is set=2.07724257197326, reg_alpha=0.0 will be ignored. Current value: lambda_l1=2.07724257197326\n",
            "[LightGBM] [Warning] num_iterations is set=100, n_iter=100 will be ignored. Current value: num_iterations=100\n",
            "[LightGBM] [Warning] min_data_in_leaf is set=437, min_child_samples=20 will be ignored. Current value: min_data_in_leaf=437\n",
            "[LightGBM] [Warning] lambda_l2 is set=7.596840201631312, reg_lambda=0.0 will be ignored. Current value: lambda_l2=7.596840201631312\n",
            "[LightGBM] [Warning] lambda_l1 is set=2.07724257197326, reg_alpha=0.0 will be ignored. Current value: lambda_l1=2.07724257197326\n",
            "[LightGBM] [Info] Number of positive: 36026, number of negative: 1108968\n",
            "[LightGBM] [Info] Auto-choosing col-wise multi-threading, the overhead of testing was 1.649079 seconds.\n",
            "You can set `force_col_wise=true` to remove the overhead.\n",
            "[LightGBM] [Info] Total Bins 53668\n",
            "[LightGBM] [Info] Number of data points in the train set: 1144994, number of used features: 396\n",
            "[LightGBM] [Info] [binary:BoostFromScore]: pavg=0.031464 -> initscore=-3.426944\n",
            "[LightGBM] [Info] Start training from score -3.426944\n",
            "[LightGBM] [Warning] lambda_l2 is set=7.596840201631312, reg_lambda=0.0 will be ignored. Current value: lambda_l2=7.596840201631312\n",
            "[LightGBM] [Warning] min_data_in_leaf is set=437, min_child_samples=20 will be ignored. Current value: min_data_in_leaf=437\n",
            "[LightGBM] [Warning] lambda_l1 is set=2.07724257197326, reg_alpha=0.0 will be ignored. Current value: lambda_l1=2.07724257197326\n",
            "[LightGBM] [Warning] lambda_l2 is set=7.596840201631312, reg_lambda=0.0 will be ignored. Current value: lambda_l2=7.596840201631312\n",
            "[LightGBM] [Warning] min_data_in_leaf is set=437, min_child_samples=20 will be ignored. Current value: min_data_in_leaf=437\n",
            "[LightGBM] [Warning] lambda_l1 is set=2.07724257197326, reg_alpha=0.0 will be ignored. Current value: lambda_l1=2.07724257197326\n",
            "0.5\n"
          ]
        }
      ]
    },
    {
      "cell_type": "code",
      "source": [
        "features = x_train.columns\n"
      ],
      "metadata": {
        "id": "oaCkNzoZGuuq"
      },
      "execution_count": 67,
      "outputs": []
    },
    {
      "cell_type": "code",
      "source": [
        "d_type = x_train.dtypes"
      ],
      "metadata": {
        "id": "S33957maG74Q"
      },
      "execution_count": 66,
      "outputs": []
    },
    {
      "cell_type": "code",
      "source": [
        "# prompt: create a pandas df with above two lists features and d_type and save them into csv file\n",
        "\n",
        "import pandas as pd\n",
        "\n",
        "data = {'features': features, 'data_type': d_type}\n",
        "\n",
        "df = pd.DataFrame(data)\n",
        "\n",
        "df.to_csv('data_types.csv', index=False)\n"
      ],
      "metadata": {
        "id": "511HgU67HAjm"
      },
      "execution_count": 68,
      "outputs": []
    },
    {
      "cell_type": "code",
      "source": [
        "run[\"training_featues_type\"].upload(\"data_types.csv\")"
      ],
      "metadata": {
        "id": "DFKO3_sQIAMx"
      },
      "execution_count": 71,
      "outputs": []
    },
    {
      "cell_type": "markdown",
      "source": [
        "### Prediction"
      ],
      "metadata": {
        "id": "aFMLLVILI9gr"
      }
    },
    {
      "cell_type": "code",
      "source": [
        "X_test = df_test.drop(columns=[\"WEEK_NUM\"])\n",
        "X_test = X_test.set_index(\"case_id\")\n",
        "\n",
        "y_pred = pd.Series(model.predict_proba(X_test)[:, 1], index=X_test.index)"
      ],
      "metadata": {
        "execution": {
          "iopub.status.busy": "2024-03-11T20:19:29.107828Z",
          "iopub.execute_input": "2024-03-11T20:19:29.108268Z",
          "iopub.status.idle": "2024-03-11T20:19:29.446676Z",
          "shell.execute_reply.started": "2024-03-11T20:19:29.108222Z",
          "shell.execute_reply": "2024-03-11T20:19:29.445314Z"
        },
        "trusted": true,
        "id": "7HRRzY38I9gr",
        "colab": {
          "base_uri": "https://localhost:8080/",
          "height": 335
        },
        "outputId": "643b11f1-e1a9-443e-a66f-ef151461843d"
      },
      "execution_count": 56,
      "outputs": [
        {
          "output_type": "error",
          "ename": "ValueError",
          "evalue": "Number of features of the model must match the input. Model n_features_ is 399 and input n_features is 425",
          "traceback": [
            "\u001b[0;31m---------------------------------------------------------------------------\u001b[0m",
            "\u001b[0;31mValueError\u001b[0m                                Traceback (most recent call last)",
            "\u001b[0;32m<ipython-input-56-e360e55ae398>\u001b[0m in \u001b[0;36m<cell line: 4>\u001b[0;34m()\u001b[0m\n\u001b[1;32m      2\u001b[0m \u001b[0mX_test\u001b[0m \u001b[0;34m=\u001b[0m \u001b[0mX_test\u001b[0m\u001b[0;34m.\u001b[0m\u001b[0mset_index\u001b[0m\u001b[0;34m(\u001b[0m\u001b[0;34m\"case_id\"\u001b[0m\u001b[0;34m)\u001b[0m\u001b[0;34m\u001b[0m\u001b[0;34m\u001b[0m\u001b[0m\n\u001b[1;32m      3\u001b[0m \u001b[0;34m\u001b[0m\u001b[0m\n\u001b[0;32m----> 4\u001b[0;31m \u001b[0my_pred\u001b[0m \u001b[0;34m=\u001b[0m \u001b[0mpd\u001b[0m\u001b[0;34m.\u001b[0m\u001b[0mSeries\u001b[0m\u001b[0;34m(\u001b[0m\u001b[0mmodel\u001b[0m\u001b[0;34m.\u001b[0m\u001b[0mpredict_proba\u001b[0m\u001b[0;34m(\u001b[0m\u001b[0mX_test\u001b[0m\u001b[0;34m)\u001b[0m\u001b[0;34m[\u001b[0m\u001b[0;34m:\u001b[0m\u001b[0;34m,\u001b[0m \u001b[0;36m1\u001b[0m\u001b[0;34m]\u001b[0m\u001b[0;34m,\u001b[0m \u001b[0mindex\u001b[0m\u001b[0;34m=\u001b[0m\u001b[0mX_test\u001b[0m\u001b[0;34m.\u001b[0m\u001b[0mindex\u001b[0m\u001b[0;34m)\u001b[0m\u001b[0;34m\u001b[0m\u001b[0;34m\u001b[0m\u001b[0m\n\u001b[0m",
            "\u001b[0;32m/usr/local/lib/python3.10/dist-packages/lightgbm/sklearn.py\u001b[0m in \u001b[0;36mpredict_proba\u001b[0;34m(self, X, raw_score, start_iteration, num_iteration, pred_leaf, pred_contrib, validate_features, **kwargs)\u001b[0m\n\u001b[1;32m   1206\u001b[0m     ):\n\u001b[1;32m   1207\u001b[0m         \u001b[0;34m\"\"\"Docstring is set after definition, using a template.\"\"\"\u001b[0m\u001b[0;34m\u001b[0m\u001b[0;34m\u001b[0m\u001b[0m\n\u001b[0;32m-> 1208\u001b[0;31m         result = super().predict(\n\u001b[0m\u001b[1;32m   1209\u001b[0m             \u001b[0mX\u001b[0m\u001b[0;34m=\u001b[0m\u001b[0mX\u001b[0m\u001b[0;34m,\u001b[0m\u001b[0;34m\u001b[0m\u001b[0;34m\u001b[0m\u001b[0m\n\u001b[1;32m   1210\u001b[0m             \u001b[0mraw_score\u001b[0m\u001b[0;34m=\u001b[0m\u001b[0mraw_score\u001b[0m\u001b[0;34m,\u001b[0m\u001b[0;34m\u001b[0m\u001b[0;34m\u001b[0m\u001b[0m\n",
            "\u001b[0;32m/usr/local/lib/python3.10/dist-packages/lightgbm/sklearn.py\u001b[0m in \u001b[0;36mpredict\u001b[0;34m(self, X, raw_score, start_iteration, num_iteration, pred_leaf, pred_contrib, validate_features, **kwargs)\u001b[0m\n\u001b[1;32m    892\u001b[0m         \u001b[0mn_features\u001b[0m \u001b[0;34m=\u001b[0m \u001b[0mX\u001b[0m\u001b[0;34m.\u001b[0m\u001b[0mshape\u001b[0m\u001b[0;34m[\u001b[0m\u001b[0;36m1\u001b[0m\u001b[0;34m]\u001b[0m\u001b[0;34m\u001b[0m\u001b[0;34m\u001b[0m\u001b[0m\n\u001b[1;32m    893\u001b[0m         \u001b[0;32mif\u001b[0m \u001b[0mself\u001b[0m\u001b[0;34m.\u001b[0m\u001b[0m_n_features\u001b[0m \u001b[0;34m!=\u001b[0m \u001b[0mn_features\u001b[0m\u001b[0;34m:\u001b[0m\u001b[0;34m\u001b[0m\u001b[0;34m\u001b[0m\u001b[0m\n\u001b[0;32m--> 894\u001b[0;31m             raise ValueError(\"Number of features of the model must \"\n\u001b[0m\u001b[1;32m    895\u001b[0m                              \u001b[0;34mf\"match the input. Model n_features_ is {self._n_features} and \"\u001b[0m\u001b[0;34m\u001b[0m\u001b[0;34m\u001b[0m\u001b[0m\n\u001b[1;32m    896\u001b[0m                              f\"input n_features is {n_features}\")\n",
            "\u001b[0;31mValueError\u001b[0m: Number of features of the model must match the input. Model n_features_ is 399 and input n_features is 425"
          ]
        }
      ]
    },
    {
      "cell_type": "markdown",
      "source": [
        "### Submission"
      ],
      "metadata": {
        "id": "ocU3uG3tI9gs"
      }
    },
    {
      "cell_type": "code",
      "source": [
        "df_subm = pd.read_csv(ROOT / \"sample_submission.csv\")\n",
        "df_subm = df_subm.set_index(\"case_id\")\n",
        "\n",
        "df_subm[\"score\"] = y_pred"
      ],
      "metadata": {
        "execution": {
          "iopub.status.busy": "2024-03-11T20:19:29.448485Z",
          "iopub.execute_input": "2024-03-11T20:19:29.449242Z",
          "iopub.status.idle": "2024-03-11T20:19:29.463199Z",
          "shell.execute_reply.started": "2024-03-11T20:19:29.449197Z",
          "shell.execute_reply": "2024-03-11T20:19:29.461917Z"
        },
        "trusted": true,
        "id": "dSMPHvCcI9gs"
      },
      "execution_count": null,
      "outputs": []
    },
    {
      "cell_type": "code",
      "source": [
        "print(\"Check null: \", df_subm[\"score\"].isnull().any())\n",
        "\n",
        "df_subm.head()"
      ],
      "metadata": {
        "execution": {
          "iopub.status.busy": "2024-03-11T20:19:29.464907Z",
          "iopub.execute_input": "2024-03-11T20:19:29.465798Z",
          "iopub.status.idle": "2024-03-11T20:19:29.482686Z",
          "shell.execute_reply.started": "2024-03-11T20:19:29.465741Z",
          "shell.execute_reply": "2024-03-11T20:19:29.481484Z"
        },
        "trusted": true,
        "id": "TlEaR7GgI9gs"
      },
      "execution_count": null,
      "outputs": []
    },
    {
      "cell_type": "code",
      "source": [
        "df_subm.to_csv(\"submission.csv\")"
      ],
      "metadata": {
        "execution": {
          "iopub.status.busy": "2024-03-11T20:19:29.484376Z",
          "iopub.execute_input": "2024-03-11T20:19:29.485101Z",
          "iopub.status.idle": "2024-03-11T20:19:29.493778Z",
          "shell.execute_reply.started": "2024-03-11T20:19:29.485058Z",
          "shell.execute_reply": "2024-03-11T20:19:29.492359Z"
        },
        "trusted": true,
        "id": "h7RkgyqqI9gs"
      },
      "execution_count": null,
      "outputs": []
    },
    {
      "cell_type": "code",
      "source": [
        "run.stop()\n"
      ],
      "metadata": {
        "id": "52niEDu2I9gs",
        "colab": {
          "base_uri": "https://localhost:8080/"
        },
        "outputId": "cd46c42d-b0d2-4c60-b87b-5c1ce89974ee"
      },
      "execution_count": 72,
      "outputs": [
        {
          "output_type": "stream",
          "name": "stdout",
          "text": [
            "[neptune] [info   ] Shutting down background jobs, please wait a moment...\n",
            "[neptune] [info   ] Done!\n",
            "[neptune] [info   ] All 0 operations synced, thanks for waiting!\n",
            "[neptune] [info   ] Explore the metadata in the Neptune app: https://app.neptune.ai/kaggle-housing/home-depot/e/HOM-19/metadata\n"
          ]
        }
      ]
    },
    {
      "cell_type": "code",
      "source": [],
      "metadata": {
        "id": "KX-X1C3kJlJV"
      },
      "execution_count": null,
      "outputs": []
    }
  ]
}