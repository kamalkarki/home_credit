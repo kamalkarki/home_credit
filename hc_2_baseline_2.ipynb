{
  "metadata": {
    "kernelspec": {
      "language": "python",
      "display_name": "Python 3",
      "name": "python3"
    },
    "language_info": {
      "name": "python",
      "version": "3.10.13",
      "mimetype": "text/x-python",
      "codemirror_mode": {
        "name": "ipython",
        "version": 3
      },
      "pygments_lexer": "ipython3",
      "nbconvert_exporter": "python",
      "file_extension": ".py"
    },
    "kaggle": {
      "accelerator": "gpu",
      "dataSources": [
        {
          "sourceId": 50160,
          "databundleVersionId": 7921029,
          "sourceType": "competition"
        }
      ],
      "dockerImageVersionId": 30648,
      "isInternetEnabled": false,
      "language": "python",
      "sourceType": "notebook",
      "isGpuEnabled": true
    },
    "colab": {
      "provenance": [],
      "include_colab_link": true
    }
  },
  "nbformat_minor": 0,
  "nbformat": 4,
  "cells": [
    {
      "cell_type": "markdown",
      "metadata": {
        "id": "view-in-github",
        "colab_type": "text"
      },
      "source": [
        "<a href=\"https://colab.research.google.com/github/kamalkarki/home_credit/blob/master/hc_2_baseline_2.ipynb\" target=\"_parent\"><img src=\"https://colab.research.google.com/assets/colab-badge.svg\" alt=\"Open In Colab\"/></a>"
      ]
    },
    {
      "source": [
        "\n",
        "# IMPORTANT: RUN THIS CELL IN ORDER TO IMPORT YOUR KAGGLE DATA SOURCES\n",
        "# TO THE CORRECT LOCATION (/kaggle/input) IN YOUR NOTEBOOK,\n",
        "# THEN FEEL FREE TO DELETE THIS CELL.\n",
        "# NOTE: THIS NOTEBOOK ENVIRONMENT DIFFERS FROM KAGGLE'S PYTHON\n",
        "# ENVIRONMENT SO THERE MAY BE MISSING LIBRARIES USED BY YOUR\n",
        "# NOTEBOOK.\n",
        "\n",
        "import os\n",
        "import sys\n",
        "from tempfile import NamedTemporaryFile\n",
        "from urllib.request import urlopen\n",
        "from urllib.parse import unquote, urlparse\n",
        "from urllib.error import HTTPError\n",
        "from zipfile import ZipFile\n",
        "import tarfile\n",
        "import shutil\n",
        "\n",
        "CHUNK_SIZE = 40960\n",
        "DATA_SOURCE_MAPPING = 'home-credit-credit-risk-model-stability:https%3A%2F%2Fstorage.googleapis.com%2Fkaggle-competitions-data%2Fkaggle-v2%2F50160%2F7921029%2Fbundle%2Farchive.zip%3FX-Goog-Algorithm%3DGOOG4-RSA-SHA256%26X-Goog-Credential%3Dgcp-kaggle-com%2540kaggle-161607.iam.gserviceaccount.com%252F20240427%252Fauto%252Fstorage%252Fgoog4_request%26X-Goog-Date%3D20240427T072848Z%26X-Goog-Expires%3D259200%26X-Goog-SignedHeaders%3Dhost%26X-Goog-Signature%3D754612b101088cf9888717a74973cded2e46bb1591812cbdee7ea2d6b9668c0e0db13070ac2b5ed8805764b2187b0746ed7a53ef70675d12a52a1f2e47574925cfb063ef629cb9e4c3b293de3f2f2a8f3d18e1edb8bd9b5deda8cb2ef1ff32f5759a3735594170c17dd6d9b600715da4fb7ce3a03f07d3578aa241bf5a551495693b15c3d0b397b5bdb97b1ade0b61904d4525f90f10036b64e04706e02b91903882a88e92b5f933fcaa0edf429657a3eb257ea9c837c57ca1c29dbfbfdb201165b8815e8966a6848a42bc86ee95122805f10d20dec94a7cdfc1ce489d6aabfc6fecc1b2600ff93cb1e547dcc19947b2f3aa903e820e01234a0edc32d170dc32'\n",
        "\n",
        "KAGGLE_INPUT_PATH='/kaggle/input'\n",
        "KAGGLE_WORKING_PATH='/kaggle/working'\n",
        "KAGGLE_SYMLINK='kaggle'\n",
        "\n",
        "!umount /kaggle/input/ 2> /dev/null\n",
        "shutil.rmtree('/kaggle/input', ignore_errors=True)\n",
        "os.makedirs(KAGGLE_INPUT_PATH, 0o777, exist_ok=True)\n",
        "os.makedirs(KAGGLE_WORKING_PATH, 0o777, exist_ok=True)\n",
        "\n",
        "try:\n",
        "  os.symlink(KAGGLE_INPUT_PATH, os.path.join(\"..\", 'input'), target_is_directory=True)\n",
        "except FileExistsError:\n",
        "  pass\n",
        "try:\n",
        "  os.symlink(KAGGLE_WORKING_PATH, os.path.join(\"..\", 'working'), target_is_directory=True)\n",
        "except FileExistsError:\n",
        "  pass\n",
        "\n",
        "for data_source_mapping in DATA_SOURCE_MAPPING.split(','):\n",
        "    directory, download_url_encoded = data_source_mapping.split(':')\n",
        "    download_url = unquote(download_url_encoded)\n",
        "    filename = urlparse(download_url).path\n",
        "    destination_path = os.path.join(KAGGLE_INPUT_PATH, directory)\n",
        "    try:\n",
        "        with urlopen(download_url) as fileres, NamedTemporaryFile() as tfile:\n",
        "            total_length = fileres.headers['content-length']\n",
        "            print(f'Downloading {directory}, {total_length} bytes compressed')\n",
        "            dl = 0\n",
        "            data = fileres.read(CHUNK_SIZE)\n",
        "            while len(data) > 0:\n",
        "                dl += len(data)\n",
        "                tfile.write(data)\n",
        "                done = int(50 * dl / int(total_length))\n",
        "                sys.stdout.write(f\"\\r[{'=' * done}{' ' * (50-done)}] {dl} bytes downloaded\")\n",
        "                sys.stdout.flush()\n",
        "                data = fileres.read(CHUNK_SIZE)\n",
        "            if filename.endswith('.zip'):\n",
        "              with ZipFile(tfile) as zfile:\n",
        "                zfile.extractall(destination_path)\n",
        "            else:\n",
        "              with tarfile.open(tfile.name) as tarfile:\n",
        "                tarfile.extractall(destination_path)\n",
        "            print(f'\\nDownloaded and uncompressed: {directory}')\n",
        "    except HTTPError as e:\n",
        "        print(f'Failed to load (likely expired) {download_url} to path {destination_path}')\n",
        "        continue\n",
        "    except OSError as e:\n",
        "        print(f'Failed to load {download_url} to path {destination_path}')\n",
        "        continue\n",
        "\n",
        "print('Data source import complete.')\n"
      ],
      "metadata": {
        "id": "ktiGde1tI9gk"
      },
      "cell_type": "code",
      "outputs": [],
      "execution_count": null
    },
    {
      "cell_type": "code",
      "source": [
        "# Note: I'm looking for a job in Europe, if you like my work don't hesitate to reach =)\n",
        "\n",
        "import os\n",
        "import gc\n",
        "from glob import glob\n",
        "from pathlib import Path\n",
        "from datetime import datetime\n",
        "\n",
        "import numpy as np\n",
        "import pandas as pd\n",
        "import polars as pl\n",
        "\n",
        "import matplotlib.pyplot as plt\n",
        "import seaborn as sns\n",
        "\n",
        "from sklearn.model_selection import StratifiedGroupKFold\n",
        "from sklearn.base import BaseEstimator, ClassifierMixin\n",
        "\n",
        "import lightgbm as lgb\n",
        "\n",
        "import warnings\n",
        "warnings.simplefilter(action='ignore', category=FutureWarning)"
      ],
      "metadata": {
        "_uuid": "8f2839f25d086af736a60e9eeb907d3b93b6e0e5",
        "_cell_guid": "b1076dfc-b9ad-4769-8c92-a6c4dae69d19",
        "execution": {
          "iopub.status.busy": "2024-04-27T05:57:09.901117Z",
          "iopub.execute_input": "2024-04-27T05:57:09.901478Z",
          "iopub.status.idle": "2024-04-27T05:57:16.644444Z",
          "shell.execute_reply.started": "2024-04-27T05:57:09.901446Z",
          "shell.execute_reply": "2024-04-27T05:57:16.643446Z"
        },
        "trusted": true,
        "id": "lMCsw-OfI9gm",
        "outputId": "83d608a2-a458-40a1-a1c7-c7ee9214483e"
      },
      "execution_count": null,
      "outputs": [
        {
          "name": "stderr",
          "text": "/opt/conda/lib/python3.10/site-packages/dask/dataframe/_pyarrow_compat.py:23: UserWarning: You are using pyarrow version 11.0.0 which is known to be insecure. See https://www.cve.org/CVERecord?id=CVE-2023-47248 for further details. Please upgrade to pyarrow>=14.0.1 or install pyarrow-hotfix to patch your current version.\n  warnings.warn(\n",
          "output_type": "stream"
        }
      ]
    },
    {
      "cell_type": "markdown",
      "source": [
        "### Pre-Fitted Voting Model"
      ],
      "metadata": {
        "id": "FodNtpS2I9gm"
      }
    },
    {
      "cell_type": "code",
      "source": [
        "class VotingModel(BaseEstimator, ClassifierMixin):\n",
        "    def __init__(self, estimators):\n",
        "        super().__init__()\n",
        "        self.estimators = estimators\n",
        "\n",
        "    def fit(self, X, y=None):\n",
        "        return self\n",
        "\n",
        "    def predict(self, X):\n",
        "        y_preds = [estimator.predict(X) for estimator in self.estimators]\n",
        "        return np.mean(y_preds, axis=0)\n",
        "\n",
        "    def predict_proba(self, X):\n",
        "        y_preds = [estimator.predict_proba(X) for estimator in self.estimators]\n",
        "        return np.mean(y_preds, axis=0)"
      ],
      "metadata": {
        "execution": {
          "iopub.status.busy": "2024-04-27T05:57:23.950453Z",
          "iopub.execute_input": "2024-04-27T05:57:23.95115Z",
          "iopub.status.idle": "2024-04-27T05:57:23.957659Z",
          "shell.execute_reply.started": "2024-04-27T05:57:23.951116Z",
          "shell.execute_reply": "2024-04-27T05:57:23.956791Z"
        },
        "trusted": true,
        "id": "UgEz8JAaI9gn"
      },
      "execution_count": null,
      "outputs": []
    },
    {
      "cell_type": "markdown",
      "source": [
        "### Pipeline"
      ],
      "metadata": {
        "id": "gy5DU9xoI9gn"
      }
    },
    {
      "cell_type": "code",
      "source": [
        "class Pipeline:\n",
        "    @staticmethod # belongs to class , no object association\n",
        "    def set_table_dtypes(df):\n",
        "        for col in df.columns:\n",
        "            if col in [\"case_id\", \"WEEK_NUM\", \"num_group1\", \"num_group2\"]:\n",
        "                df = df.with_columns(pl.col(col).cast(pl.Int32))\n",
        "            elif col in [\"date_decision\"]:\n",
        "                df = df.with_columns(pl.col(col).cast(pl.Date))\n",
        "            elif col[-1] in (\"P\", \"A\"):\n",
        "                df = df.with_columns(pl.col(col).cast(pl.Float64))\n",
        "            elif col[-1] in (\"M\",):\n",
        "                df = df.with_columns(pl.col(col).cast(pl.String))\n",
        "            elif col[-1] in (\"D\",):\n",
        "                df = df.with_columns(pl.col(col).cast(pl.Date))\n",
        "\n",
        "        return df\n",
        "\n",
        "    @staticmethod\n",
        "    def handle_dates(df):\n",
        "        for col in df.columns:\n",
        "            if col[-1] in (\"D\",):\n",
        "                df = df.with_columns(pl.col(col) - pl.col(\"date_decision\"))\n",
        "                df = df.with_columns(pl.col(col).dt.total_days())\n",
        "                df = df.with_columns(pl.col(col).cast(pl.Float32))\n",
        "\n",
        "        df = df.drop(\"date_decision\", \"MONTH\")\n",
        "\n",
        "        return df\n",
        "\n",
        "    @staticmethod\n",
        "    def filter_cols(df):\n",
        "        for col in df.columns:\n",
        "            if col not in [\"target\", \"case_id\", \"WEEK_NUM\"]:\n",
        "                isnull = df[col].is_null().mean()\n",
        "\n",
        "                if isnull > 0.95:\n",
        "                    df = df.drop(col)\n",
        "\n",
        "        for col in df.columns:\n",
        "            if (col not in [\"target\", \"case_id\", \"WEEK_NUM\"]) & (df[col].dtype == pl.String):\n",
        "                freq = df[col].n_unique()\n",
        "\n",
        "                if (freq == 1) | (freq > 200):\n",
        "                    df = df.drop(col)\n",
        "\n",
        "        return df"
      ],
      "metadata": {
        "execution": {
          "iopub.status.busy": "2024-04-27T05:57:30.050421Z",
          "iopub.execute_input": "2024-04-27T05:57:30.050765Z",
          "iopub.status.idle": "2024-04-27T05:57:30.064007Z",
          "shell.execute_reply.started": "2024-04-27T05:57:30.050739Z",
          "shell.execute_reply": "2024-04-27T05:57:30.062896Z"
        },
        "trusted": true,
        "id": "8k7KaKhpI9gn"
      },
      "execution_count": null,
      "outputs": []
    },
    {
      "cell_type": "markdown",
      "source": [
        "### Automatic Aggregation"
      ],
      "metadata": {
        "id": "tUB2w7-QI9go"
      }
    },
    {
      "cell_type": "code",
      "source": [
        "class Aggregator:\n",
        "    @staticmethod\n",
        "    def num_expr(df):\n",
        "        cols = [col for col in df.columns if col[-1] in (\"P\", \"A\")]\n",
        "\n",
        "        expr_max = [pl.max(col).alias(f\"max_{col}\") for col in cols]\n",
        "\n",
        "        return expr_max\n",
        "\n",
        "    @staticmethod\n",
        "    def date_expr(df):\n",
        "        cols = [col for col in df.columns if col[-1] in (\"D\",)]\n",
        "\n",
        "        expr_max = [pl.max(col).alias(f\"max_{col}\") for col in cols]\n",
        "\n",
        "        return expr_max\n",
        "\n",
        "    @staticmethod\n",
        "    def str_expr(df):\n",
        "        cols = [col for col in df.columns if col[-1] in (\"M\",)]\n",
        "\n",
        "        expr_max = [pl.max(col).alias(f\"max_{col}\") for col in cols]\n",
        "\n",
        "        return expr_max\n",
        "\n",
        "    @staticmethod\n",
        "    def other_expr(df):\n",
        "        cols = [col for col in df.columns if col[-1] in (\"T\", \"L\")]\n",
        "\n",
        "        expr_max = [pl.max(col).alias(f\"max_{col}\") for col in cols]\n",
        "\n",
        "        return expr_max\n",
        "\n",
        "    @staticmethod\n",
        "    def count_expr(df):\n",
        "        cols = [col for col in df.columns if \"num_group\" in col]\n",
        "\n",
        "        expr_max = [pl.max(col).alias(f\"max_{col}\") for col in cols]\n",
        "\n",
        "        return expr_max\n",
        "\n",
        "    @staticmethod\n",
        "    def get_exprs(df):\n",
        "        exprs = Aggregator.num_expr(df) + \\\n",
        "                Aggregator.date_expr(df) + \\\n",
        "                Aggregator.str_expr(df) + \\\n",
        "                Aggregator.other_expr(df) + \\\n",
        "                Aggregator.count_expr(df)\n",
        "\n",
        "        return exprs"
      ],
      "metadata": {
        "execution": {
          "iopub.status.busy": "2024-04-27T05:57:35.31807Z",
          "iopub.execute_input": "2024-04-27T05:57:35.318944Z",
          "iopub.status.idle": "2024-04-27T05:57:35.329679Z",
          "shell.execute_reply.started": "2024-04-27T05:57:35.318908Z",
          "shell.execute_reply": "2024-04-27T05:57:35.328731Z"
        },
        "trusted": true,
        "id": "wujYaWpuI9go"
      },
      "execution_count": null,
      "outputs": []
    },
    {
      "cell_type": "markdown",
      "source": [
        "### File I/O"
      ],
      "metadata": {
        "id": "kDa1MO7FI9go"
      }
    },
    {
      "cell_type": "code",
      "source": [
        "def read_file(path, depth=None):\n",
        "    df = pl.read_parquet(path)\n",
        "    df = df.pipe(Pipeline.set_table_dtypes)\n",
        "\n",
        "    if depth in [1, 2]:\n",
        "        df = df.group_by(\"case_id\").agg(Aggregator.get_exprs(df))\n",
        "\n",
        "    return df\n",
        "\n",
        "def read_files(regex_path, depth=None):\n",
        "    chunks = []\n",
        "    for path in glob(str(regex_path)):\n",
        "        df = pl.read_parquet(path)\n",
        "        df = df.pipe(Pipeline.set_table_dtypes)\n",
        "\n",
        "        if depth in [1, 2]:\n",
        "            df = df.group_by(\"case_id\").agg(Aggregator.get_exprs(df))\n",
        "\n",
        "        chunks.append(df)\n",
        "\n",
        "    df = pl.concat(chunks, how=\"vertical_relaxed\")\n",
        "    df = df.unique(subset=[\"case_id\"])\n",
        "\n",
        "    return df"
      ],
      "metadata": {
        "execution": {
          "iopub.status.busy": "2024-04-27T06:00:38.592629Z",
          "iopub.execute_input": "2024-04-27T06:00:38.593347Z",
          "iopub.status.idle": "2024-04-27T06:00:38.601Z",
          "shell.execute_reply.started": "2024-04-27T06:00:38.593312Z",
          "shell.execute_reply": "2024-04-27T06:00:38.599995Z"
        },
        "trusted": true,
        "id": "GYPwqQkkI9go"
      },
      "execution_count": null,
      "outputs": []
    },
    {
      "cell_type": "markdown",
      "source": [
        "### Feature Engineering"
      ],
      "metadata": {
        "id": "IkQQKgomI9go"
      }
    },
    {
      "cell_type": "code",
      "source": [
        "def feature_eng(df_base, depth_0, depth_1, depth_2):\n",
        "    df_base = (\n",
        "        df_base\n",
        "        .with_columns(\n",
        "            month_decision = pl.col(\"date_decision\").dt.month(),\n",
        "            weekday_decision = pl.col(\"date_decision\").dt.weekday(),\n",
        "        )\n",
        "    )\n",
        "\n",
        "    for i, df in enumerate(depth_0 + depth_1 + depth_2):\n",
        "        df_base = df_base.join(df, how=\"left\", on=\"case_id\", suffix=f\"_{i}\")\n",
        "\n",
        "    df_base = df_base.pipe(Pipeline.handle_dates)\n",
        "\n",
        "    return df_base"
      ],
      "metadata": {
        "execution": {
          "iopub.status.busy": "2024-04-27T06:00:40.836141Z",
          "iopub.execute_input": "2024-04-27T06:00:40.836516Z",
          "iopub.status.idle": "2024-04-27T06:00:40.842858Z",
          "shell.execute_reply.started": "2024-04-27T06:00:40.836486Z",
          "shell.execute_reply": "2024-04-27T06:00:40.841862Z"
        },
        "trusted": true,
        "id": "aufbvLrnI9go"
      },
      "execution_count": null,
      "outputs": []
    },
    {
      "cell_type": "code",
      "source": [
        "def to_pandas(df_data, cat_cols=None):\n",
        "    df_data = df_data.to_pandas()\n",
        "\n",
        "    if cat_cols is None:\n",
        "        cat_cols = list(df_data.select_dtypes(\"object\").columns)\n",
        "\n",
        "    df_data[cat_cols] = df_data[cat_cols].astype(\"category\")\n",
        "\n",
        "    return df_data, cat_cols"
      ],
      "metadata": {
        "execution": {
          "iopub.status.busy": "2024-04-27T06:00:41.284191Z",
          "iopub.execute_input": "2024-04-27T06:00:41.284555Z",
          "iopub.status.idle": "2024-04-27T06:00:41.289746Z",
          "shell.execute_reply.started": "2024-04-27T06:00:41.284526Z",
          "shell.execute_reply": "2024-04-27T06:00:41.288844Z"
        },
        "trusted": true,
        "id": "Zc-KOyrNI9gp"
      },
      "execution_count": null,
      "outputs": []
    },
    {
      "cell_type": "markdown",
      "source": [
        "### Configuration"
      ],
      "metadata": {
        "id": "GCgmtowdI9gp"
      }
    },
    {
      "cell_type": "code",
      "source": [
        "ROOT            = Path(\"/kaggle/input/home-credit-credit-risk-model-stability\")\n",
        "TRAIN_DIR       = ROOT / \"parquet_files\" / \"train\"\n",
        "TEST_DIR        = ROOT / \"parquet_files\" / \"test\""
      ],
      "metadata": {
        "execution": {
          "iopub.status.busy": "2024-04-27T06:00:42.376087Z",
          "iopub.execute_input": "2024-04-27T06:00:42.376481Z",
          "iopub.status.idle": "2024-04-27T06:00:42.381496Z",
          "shell.execute_reply.started": "2024-04-27T06:00:42.376441Z",
          "shell.execute_reply": "2024-04-27T06:00:42.380457Z"
        },
        "trusted": true,
        "id": "KMQGpGi4I9gp"
      },
      "execution_count": null,
      "outputs": []
    },
    {
      "cell_type": "markdown",
      "source": [
        "### Train Files Read & Feature Engineering"
      ],
      "metadata": {
        "id": "5TB3gwVII9gp"
      }
    },
    {
      "cell_type": "code",
      "source": [
        "data_store = {\n",
        "    \"df_base\": read_file(TRAIN_DIR / \"train_base.parquet\"),\n",
        "    \"depth_0\": [\n",
        "        read_file(TRAIN_DIR / \"train_static_cb_0.parquet\"),\n",
        "        read_files(TRAIN_DIR / \"train_static_0_*.parquet\"),\n",
        "    ],\n",
        "    \"depth_1\": [\n",
        "        read_files(TRAIN_DIR / \"train_applprev_1_*.parquet\", 1),\n",
        "        read_file(TRAIN_DIR / \"train_tax_registry_a_1.parquet\", 1),\n",
        "        read_file(TRAIN_DIR / \"train_tax_registry_b_1.parquet\", 1),\n",
        "        read_file(TRAIN_DIR / \"train_tax_registry_c_1.parquet\", 1),\n",
        "        read_files(TRAIN_DIR / \"train_credit_bureau_a_1_*.parquet\", 1),\n",
        "        read_file(TRAIN_DIR / \"train_credit_bureau_b_1.parquet\", 1),\n",
        "        read_file(TRAIN_DIR / \"train_other_1.parquet\", 1),\n",
        "        read_file(TRAIN_DIR / \"train_person_1.parquet\", 1),\n",
        "        read_file(TRAIN_DIR / \"train_deposit_1.parquet\", 1),\n",
        "        read_file(TRAIN_DIR / \"train_debitcard_1.parquet\", 1),\n",
        "    ],\n",
        "    \"depth_2\": [\n",
        "        read_file(TRAIN_DIR / \"train_credit_bureau_b_2.parquet\", 2),\n",
        "        read_files(TRAIN_DIR / \"train_credit_bureau_a_2_*.parquet\", 2),\n",
        "    ]\n",
        "}"
      ],
      "metadata": {
        "execution": {
          "iopub.status.busy": "2024-04-27T06:00:43.924331Z",
          "iopub.execute_input": "2024-04-27T06:00:43.924742Z",
          "iopub.status.idle": "2024-04-27T06:02:57.705822Z",
          "shell.execute_reply.started": "2024-04-27T06:00:43.924709Z",
          "shell.execute_reply": "2024-04-27T06:02:57.704528Z"
        },
        "trusted": true,
        "id": "hOyV17V0I9gp"
      },
      "execution_count": null,
      "outputs": []
    },
    {
      "cell_type": "code",
      "source": [
        "df_train = feature_eng(**data_store)\n",
        "\n",
        "print(\"train data shape:\\t\", df_train.shape)"
      ],
      "metadata": {
        "execution": {
          "iopub.status.busy": "2024-04-27T06:02:57.71028Z",
          "iopub.execute_input": "2024-04-27T06:02:57.710645Z",
          "iopub.status.idle": "2024-04-27T06:03:11.077037Z",
          "shell.execute_reply.started": "2024-04-27T06:02:57.710615Z",
          "shell.execute_reply": "2024-04-27T06:03:11.076006Z"
        },
        "trusted": true,
        "id": "_OobeuHSI9gq",
        "outputId": "07704579-99f2-4374-8e7b-cfa31b95ef46"
      },
      "execution_count": null,
      "outputs": [
        {
          "name": "stdout",
          "text": "train data shape:\t (1526659, 472)\n",
          "output_type": "stream"
        }
      ]
    },
    {
      "cell_type": "markdown",
      "source": [
        "### Test Files Read & Feature Engineering"
      ],
      "metadata": {
        "id": "wKtmOsE0I9gq"
      }
    },
    {
      "cell_type": "code",
      "source": [
        "data_store = {\n",
        "    \"df_base\": read_file(TEST_DIR / \"test_base.parquet\"),\n",
        "    \"depth_0\": [\n",
        "        read_file(TEST_DIR / \"test_static_cb_0.parquet\"),\n",
        "        read_files(TEST_DIR / \"test_static_0_*.parquet\"),\n",
        "    ],\n",
        "    \"depth_1\": [\n",
        "        read_files(TEST_DIR / \"test_applprev_1_*.parquet\", 1),\n",
        "        read_file(TEST_DIR / \"test_tax_registry_a_1.parquet\", 1),\n",
        "        read_file(TEST_DIR / \"test_tax_registry_b_1.parquet\", 1),\n",
        "        read_file(TEST_DIR / \"test_tax_registry_c_1.parquet\", 1),\n",
        "        read_files(TEST_DIR / \"test_credit_bureau_a_1_*.parquet\", 1),\n",
        "        read_file(TEST_DIR / \"test_credit_bureau_b_1.parquet\", 1),\n",
        "        read_file(TEST_DIR / \"test_other_1.parquet\", 1),\n",
        "        read_file(TEST_DIR / \"test_person_1.parquet\", 1),\n",
        "        read_file(TEST_DIR / \"test_deposit_1.parquet\", 1),\n",
        "        read_file(TEST_DIR / \"test_debitcard_1.parquet\", 1),\n",
        "    ],\n",
        "    \"depth_2\": [\n",
        "        read_file(TEST_DIR / \"test_credit_bureau_b_2.parquet\", 2),\n",
        "        read_files(TEST_DIR / \"test_credit_bureau_a_2_*.parquet\", 2),\n",
        "    ]\n",
        "}"
      ],
      "metadata": {
        "execution": {
          "iopub.status.busy": "2024-03-11T19:59:20.574934Z",
          "iopub.execute_input": "2024-03-11T19:59:20.575209Z",
          "iopub.status.idle": "2024-03-11T19:59:21.21612Z",
          "shell.execute_reply.started": "2024-03-11T19:59:20.575186Z",
          "shell.execute_reply": "2024-03-11T19:59:21.215229Z"
        },
        "trusted": true,
        "id": "YUOyHp2lI9gq"
      },
      "execution_count": null,
      "outputs": []
    },
    {
      "cell_type": "code",
      "source": [
        "df_test = feature_eng(**data_store)\n",
        "\n",
        "print(\"test data shape:\\t\", df_test.shape)"
      ],
      "metadata": {
        "execution": {
          "iopub.status.busy": "2024-03-11T19:59:21.217324Z",
          "iopub.execute_input": "2024-03-11T19:59:21.217632Z",
          "iopub.status.idle": "2024-03-11T19:59:21.260441Z",
          "shell.execute_reply.started": "2024-03-11T19:59:21.217606Z",
          "shell.execute_reply": "2024-03-11T19:59:21.259468Z"
        },
        "trusted": true,
        "id": "5sKS3r5SI9gq"
      },
      "execution_count": null,
      "outputs": []
    },
    {
      "cell_type": "markdown",
      "source": [
        "### Feature Elimination"
      ],
      "metadata": {
        "id": "N1a7VoONI9gq"
      }
    },
    {
      "cell_type": "code",
      "source": [
        "df_train = df_train.pipe(Pipeline.filter_cols)\n",
        "df_test = df_test.select([col for col in df_train.columns if col != \"target\"])\n",
        "\n",
        "print(\"train data shape:\\t\", df_train.shape)\n",
        "print(\"test data shape:\\t\", df_test.shape)"
      ],
      "metadata": {
        "execution": {
          "iopub.status.busy": "2024-03-11T19:59:21.261413Z",
          "iopub.execute_input": "2024-03-11T19:59:21.261688Z",
          "iopub.status.idle": "2024-03-11T19:59:24.355421Z",
          "shell.execute_reply.started": "2024-03-11T19:59:21.261663Z",
          "shell.execute_reply": "2024-03-11T19:59:24.354307Z"
        },
        "trusted": true,
        "id": "4CHF4SaeI9gq"
      },
      "execution_count": null,
      "outputs": []
    },
    {
      "cell_type": "markdown",
      "source": [
        "### Pandas Conversion"
      ],
      "metadata": {
        "id": "6rqevdLyI9gq"
      }
    },
    {
      "cell_type": "code",
      "source": [
        "df_train, cat_cols = to_pandas(df_train)\n",
        "df_test, cat_cols = to_pandas(df_test, cat_cols)"
      ],
      "metadata": {
        "execution": {
          "iopub.status.busy": "2024-03-11T19:59:24.356608Z",
          "iopub.execute_input": "2024-03-11T19:59:24.356927Z",
          "iopub.status.idle": "2024-03-11T19:59:45.600109Z",
          "shell.execute_reply.started": "2024-03-11T19:59:24.356901Z",
          "shell.execute_reply": "2024-03-11T19:59:45.59928Z"
        },
        "trusted": true,
        "id": "-GM95qlUI9gq"
      },
      "execution_count": null,
      "outputs": []
    },
    {
      "cell_type": "markdown",
      "source": [
        "### Garbage Collection"
      ],
      "metadata": {
        "id": "bF24mWHsI9gr"
      }
    },
    {
      "cell_type": "code",
      "source": [
        "del data_store\n",
        "\n",
        "gc.collect()"
      ],
      "metadata": {
        "execution": {
          "iopub.status.busy": "2024-03-11T19:59:45.60134Z",
          "iopub.execute_input": "2024-03-11T19:59:45.601661Z",
          "iopub.status.idle": "2024-03-11T19:59:45.738468Z",
          "shell.execute_reply.started": "2024-03-11T19:59:45.601635Z",
          "shell.execute_reply": "2024-03-11T19:59:45.737384Z"
        },
        "trusted": true,
        "id": "aD_w-5hzI9gr"
      },
      "execution_count": null,
      "outputs": []
    },
    {
      "cell_type": "markdown",
      "source": [
        "### EDA"
      ],
      "metadata": {
        "id": "jhcjvMGpI9gr"
      }
    },
    {
      "cell_type": "code",
      "source": [
        "print(\"Train is duplicated:\\t\", df_train[\"case_id\"].duplicated().any())\n",
        "print(\"Train Week Range:\\t\", (df_train[\"WEEK_NUM\"].min(), df_train[\"WEEK_NUM\"].max()))\n",
        "\n",
        "print()\n",
        "\n",
        "print(\"Test is duplicated:\\t\", df_test[\"case_id\"].duplicated().any())\n",
        "print(\"Test Week Range:\\t\", (df_test[\"WEEK_NUM\"].min(), df_test[\"WEEK_NUM\"].max()))"
      ],
      "metadata": {
        "execution": {
          "iopub.status.busy": "2024-03-11T19:59:45.739836Z",
          "iopub.execute_input": "2024-03-11T19:59:45.74016Z",
          "iopub.status.idle": "2024-03-11T19:59:45.776848Z",
          "shell.execute_reply.started": "2024-03-11T19:59:45.740136Z",
          "shell.execute_reply": "2024-03-11T19:59:45.775701Z"
        },
        "trusted": true,
        "id": "asQbBPwaI9gr"
      },
      "execution_count": null,
      "outputs": []
    },
    {
      "cell_type": "code",
      "source": [
        "sns.lineplot(\n",
        "    data=df_train,\n",
        "    x=\"WEEK_NUM\",\n",
        "    y=\"target\",\n",
        ")\n",
        "plt.show()"
      ],
      "metadata": {
        "execution": {
          "iopub.status.busy": "2024-03-11T19:59:45.778242Z",
          "iopub.execute_input": "2024-03-11T19:59:45.778597Z",
          "iopub.status.idle": "2024-03-11T20:00:04.627702Z",
          "shell.execute_reply.started": "2024-03-11T19:59:45.778571Z",
          "shell.execute_reply": "2024-03-11T20:00:04.626634Z"
        },
        "trusted": true,
        "id": "yCCHYx_LI9gr"
      },
      "execution_count": null,
      "outputs": []
    },
    {
      "cell_type": "markdown",
      "source": [
        "### Training"
      ],
      "metadata": {
        "id": "dUDzz_VII9gr"
      }
    },
    {
      "cell_type": "code",
      "source": [
        "X = df_train.drop(columns=[\"target\", \"case_id\", \"WEEK_NUM\"])\n",
        "y = df_train[\"target\"]\n",
        "weeks = df_train[\"WEEK_NUM\"]\n",
        "\n",
        "cv = StratifiedGroupKFold(n_splits=5, shuffle=False)\n",
        "\n",
        "params = {\n",
        "    \"boosting_type\": \"gbdt\",\n",
        "    \"objective\": \"binary\",\n",
        "    \"metric\": \"auc\",\n",
        "    \"max_depth\": 8,\n",
        "    \"learning_rate\": 0.05,\n",
        "    \"n_estimators\": 1000,\n",
        "    \"colsample_bytree\": 0.8,\n",
        "    \"colsample_bynode\": 0.8,\n",
        "    \"verbose\": -1,\n",
        "    \"random_state\": 42,\n",
        "    \"device\": \"gpu\",\n",
        "}\n",
        "\n",
        "fitted_models = []\n",
        "\n",
        "for idx_train, idx_valid in cv.split(X, y, groups=weeks):\n",
        "    X_train, y_train = X.iloc[idx_train], y.iloc[idx_train]\n",
        "    X_valid, y_valid = X.iloc[idx_valid], y.iloc[idx_valid]\n",
        "\n",
        "    model = lgb.LGBMClassifier(**params)\n",
        "    model.fit(\n",
        "        X_train, y_train,\n",
        "        eval_set=[(X_valid, y_valid)],\n",
        "        callbacks=[lgb.log_evaluation(100), lgb.early_stopping(100)]\n",
        "    )\n",
        "\n",
        "    fitted_models.append(model)\n",
        "\n",
        "model = VotingModel(fitted_models)"
      ],
      "metadata": {
        "execution": {
          "iopub.status.busy": "2024-03-11T20:00:04.629033Z",
          "iopub.execute_input": "2024-03-11T20:00:04.629367Z",
          "iopub.status.idle": "2024-03-11T20:19:29.106294Z",
          "shell.execute_reply.started": "2024-03-11T20:00:04.629339Z",
          "shell.execute_reply": "2024-03-11T20:19:29.10518Z"
        },
        "trusted": true,
        "id": "1kP7l9R4I9gr"
      },
      "execution_count": null,
      "outputs": []
    },
    {
      "cell_type": "markdown",
      "source": [
        "### Prediction"
      ],
      "metadata": {
        "id": "aFMLLVILI9gr"
      }
    },
    {
      "cell_type": "code",
      "source": [
        "X_test = df_test.drop(columns=[\"WEEK_NUM\"])\n",
        "X_test = X_test.set_index(\"case_id\")\n",
        "\n",
        "y_pred = pd.Series(model.predict_proba(X_test)[:, 1], index=X_test.index)"
      ],
      "metadata": {
        "execution": {
          "iopub.status.busy": "2024-03-11T20:19:29.107828Z",
          "iopub.execute_input": "2024-03-11T20:19:29.108268Z",
          "iopub.status.idle": "2024-03-11T20:19:29.446676Z",
          "shell.execute_reply.started": "2024-03-11T20:19:29.108222Z",
          "shell.execute_reply": "2024-03-11T20:19:29.445314Z"
        },
        "trusted": true,
        "id": "7HRRzY38I9gr"
      },
      "execution_count": null,
      "outputs": []
    },
    {
      "cell_type": "markdown",
      "source": [
        "### Submission"
      ],
      "metadata": {
        "id": "ocU3uG3tI9gs"
      }
    },
    {
      "cell_type": "code",
      "source": [
        "df_subm = pd.read_csv(ROOT / \"sample_submission.csv\")\n",
        "df_subm = df_subm.set_index(\"case_id\")\n",
        "\n",
        "df_subm[\"score\"] = y_pred"
      ],
      "metadata": {
        "execution": {
          "iopub.status.busy": "2024-03-11T20:19:29.448485Z",
          "iopub.execute_input": "2024-03-11T20:19:29.449242Z",
          "iopub.status.idle": "2024-03-11T20:19:29.463199Z",
          "shell.execute_reply.started": "2024-03-11T20:19:29.449197Z",
          "shell.execute_reply": "2024-03-11T20:19:29.461917Z"
        },
        "trusted": true,
        "id": "dSMPHvCcI9gs"
      },
      "execution_count": null,
      "outputs": []
    },
    {
      "cell_type": "code",
      "source": [
        "print(\"Check null: \", df_subm[\"score\"].isnull().any())\n",
        "\n",
        "df_subm.head()"
      ],
      "metadata": {
        "execution": {
          "iopub.status.busy": "2024-03-11T20:19:29.464907Z",
          "iopub.execute_input": "2024-03-11T20:19:29.465798Z",
          "iopub.status.idle": "2024-03-11T20:19:29.482686Z",
          "shell.execute_reply.started": "2024-03-11T20:19:29.465741Z",
          "shell.execute_reply": "2024-03-11T20:19:29.481484Z"
        },
        "trusted": true,
        "id": "TlEaR7GgI9gs"
      },
      "execution_count": null,
      "outputs": []
    },
    {
      "cell_type": "code",
      "source": [
        "df_subm.to_csv(\"submission.csv\")"
      ],
      "metadata": {
        "execution": {
          "iopub.status.busy": "2024-03-11T20:19:29.484376Z",
          "iopub.execute_input": "2024-03-11T20:19:29.485101Z",
          "iopub.status.idle": "2024-03-11T20:19:29.493778Z",
          "shell.execute_reply.started": "2024-03-11T20:19:29.485058Z",
          "shell.execute_reply": "2024-03-11T20:19:29.492359Z"
        },
        "trusted": true,
        "id": "h7RkgyqqI9gs"
      },
      "execution_count": null,
      "outputs": []
    },
    {
      "cell_type": "code",
      "source": [],
      "metadata": {
        "id": "52niEDu2I9gs"
      },
      "execution_count": null,
      "outputs": []
    }
  ]
}